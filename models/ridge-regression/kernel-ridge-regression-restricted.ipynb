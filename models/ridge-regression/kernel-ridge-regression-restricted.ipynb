{
 "cells": [
  {
   "cell_type": "code",
   "execution_count": 25,
   "metadata": {},
   "outputs": [
    {
     "data": {
      "text/html": [
       "<div>\n",
       "<style>\n",
       "    .dataframe thead tr:only-child th {\n",
       "        text-align: right;\n",
       "    }\n",
       "\n",
       "    .dataframe thead th {\n",
       "        text-align: left;\n",
       "    }\n",
       "\n",
       "    .dataframe tbody tr th {\n",
       "        vertical-align: top;\n",
       "    }\n",
       "</style>\n",
       "<table border=\"1\" class=\"dataframe\">\n",
       "  <thead>\n",
       "    <tr style=\"text-align: right;\">\n",
       "      <th></th>\n",
       "      <th>listing_id</th>\n",
       "      <th>vin</th>\n",
       "      <th>make</th>\n",
       "      <th>model</th>\n",
       "      <th>year</th>\n",
       "      <th>condition</th>\n",
       "      <th>mpg_city</th>\n",
       "      <th>mileage</th>\n",
       "      <th>transmission</th>\n",
       "      <th>cars_rating</th>\n",
       "      <th>state</th>\n",
       "      <th>price</th>\n",
       "    </tr>\n",
       "  </thead>\n",
       "  <tbody>\n",
       "    <tr>\n",
       "      <th>496</th>\n",
       "      <td>728756720</td>\n",
       "      <td>1FTFX1EF2EKF17384</td>\n",
       "      <td>Ford</td>\n",
       "      <td>F-150</td>\n",
       "      <td>2014</td>\n",
       "      <td>Used</td>\n",
       "      <td>13.0</td>\n",
       "      <td>56560.0</td>\n",
       "      <td>Automatic</td>\n",
       "      <td>4.8</td>\n",
       "      <td>NY</td>\n",
       "      <td>23956</td>\n",
       "    </tr>\n",
       "    <tr>\n",
       "      <th>30440</th>\n",
       "      <td>730592134</td>\n",
       "      <td>1FMJK1JT9HEA58096</td>\n",
       "      <td>Ford</td>\n",
       "      <td>Expedition</td>\n",
       "      <td>2017</td>\n",
       "      <td>Used</td>\n",
       "      <td>16.0</td>\n",
       "      <td>45652.0</td>\n",
       "      <td>Automatic</td>\n",
       "      <td>5.0</td>\n",
       "      <td>MO</td>\n",
       "      <td>36480</td>\n",
       "    </tr>\n",
       "    <tr>\n",
       "      <th>22971</th>\n",
       "      <td>728344048</td>\n",
       "      <td>1HGCR2F34FA116869</td>\n",
       "      <td>Honda</td>\n",
       "      <td>Accord</td>\n",
       "      <td>2015</td>\n",
       "      <td>Used</td>\n",
       "      <td>22.0</td>\n",
       "      <td>24266.0</td>\n",
       "      <td>Automatic</td>\n",
       "      <td>4.7</td>\n",
       "      <td>IN</td>\n",
       "      <td>16197</td>\n",
       "    </tr>\n",
       "    <tr>\n",
       "      <th>11126</th>\n",
       "      <td>728467012</td>\n",
       "      <td>1FTEW1CPXFKE88681</td>\n",
       "      <td>Ford</td>\n",
       "      <td>F-150</td>\n",
       "      <td>2015</td>\n",
       "      <td>Used</td>\n",
       "      <td>18.0</td>\n",
       "      <td>29620.0</td>\n",
       "      <td>Automatic</td>\n",
       "      <td>4.6</td>\n",
       "      <td>CA</td>\n",
       "      <td>29200</td>\n",
       "    </tr>\n",
       "    <tr>\n",
       "      <th>19882</th>\n",
       "      <td>728960532</td>\n",
       "      <td>KNDPMCAC9H7127832</td>\n",
       "      <td>Kia</td>\n",
       "      <td>Sportage</td>\n",
       "      <td>2017</td>\n",
       "      <td>Used</td>\n",
       "      <td>21.0</td>\n",
       "      <td>41109.0</td>\n",
       "      <td>Automatic</td>\n",
       "      <td>4.9</td>\n",
       "      <td>CA</td>\n",
       "      <td>19995</td>\n",
       "    </tr>\n",
       "  </tbody>\n",
       "</table>\n",
       "</div>"
      ],
      "text/plain": [
       "       listing_id                vin   make       model  year condition  \\\n",
       "496     728756720  1FTFX1EF2EKF17384   Ford       F-150  2014      Used   \n",
       "30440   730592134  1FMJK1JT9HEA58096   Ford  Expedition  2017      Used   \n",
       "22971   728344048  1HGCR2F34FA116869  Honda      Accord  2015      Used   \n",
       "11126   728467012  1FTEW1CPXFKE88681   Ford       F-150  2015      Used   \n",
       "19882   728960532  KNDPMCAC9H7127832    Kia    Sportage  2017      Used   \n",
       "\n",
       "       mpg_city  mileage transmission  cars_rating state  price  \n",
       "496        13.0  56560.0    Automatic          4.8    NY  23956  \n",
       "30440      16.0  45652.0    Automatic          5.0    MO  36480  \n",
       "22971      22.0  24266.0    Automatic          4.7    IN  16197  \n",
       "11126      18.0  29620.0    Automatic          4.6    CA  29200  \n",
       "19882      21.0  41109.0    Automatic          4.9    CA  19995  "
      ]
     },
     "execution_count": 25,
     "metadata": {},
     "output_type": "execute_result"
    }
   ],
   "source": [
    "import pandas as pd\n",
    "from sklearn.kernel_ridge import KernelRidge\n",
    "from sklearn.model_selection import train_test_split\n",
    "import time\n",
    "\n",
    "# import data\n",
    "df = pd.read_csv('../../data/aggregated/processed_data/data-3-28-18-restricted-model.csv')\n",
    "df = df.sample(frac=0.5)\n",
    "\n",
    "# replace missing values with mean/mode\n",
    "# Continuous\n",
    "df['mileage'] = df['mileage'].fillna((df['mileage'].mean()))\n",
    "df['year'] = df['year'].fillna((df['year'].mean()))\n",
    "# Categorical\n",
    "df['make'] = df['make'].fillna(df['make'].value_counts().index[0])\n",
    "df['model'] = df['model'].fillna(df['model'].value_counts().index[0])\n",
    "df['state'] = df['state'].fillna(df['state'].value_counts().index[0])\n",
    "df['transmission'] = df['transmission'].fillna(df['transmission'].value_counts().index[0])\n",
    "\n",
    "# choose features and train/test split\n",
    "features = df[['make', 'model', 'mileage', 'state', 'transmission', 'year']]\n",
    "labels = df[['price']]\n",
    "features_encoded = pd.get_dummies(features, columns=['make', 'model', 'state', 'transmission'])\n",
    "X_train, X_test, Y_train, Y_test = train_test_split(features_encoded, labels, test_size=0.2, train_size=0.8)\n",
    "\n",
    "df.head(5)"
   ]
  },
  {
   "cell_type": "markdown",
   "metadata": {},
   "source": [
    "## First Run"
   ]
  },
  {
   "cell_type": "code",
   "execution_count": 26,
   "metadata": {},
   "outputs": [
    {
     "name": "stdout",
     "output_type": "stream",
     "text": [
      "Time to fit: 74.833s\n"
     ]
    }
   ],
   "source": [
    "model = KernelRidge()\n",
    "stime = time.time()\n",
    "model.fit(X_train, Y_train)\n",
    "print(\"Time to fit: %.3fs\" % (time.time() - stime))"
   ]
  },
  {
   "cell_type": "code",
   "execution_count": 27,
   "metadata": {},
   "outputs": [
    {
     "data": {
      "text/plain": [
       "0.7227533472096991"
      ]
     },
     "execution_count": 27,
     "metadata": {},
     "output_type": "execute_result"
    }
   ],
   "source": [
    "model.score(X_test, Y_test)"
   ]
  },
  {
   "cell_type": "code",
   "execution_count": null,
   "metadata": {
    "collapsed": true
   },
   "outputs": [],
   "source": []
  }
 ],
 "metadata": {
  "kernelspec": {
   "display_name": "Python 3",
   "language": "python",
   "name": "python3"
  },
  "language_info": {
   "codemirror_mode": {
    "name": "ipython",
    "version": 3
   },
   "file_extension": ".py",
   "mimetype": "text/x-python",
   "name": "python",
   "nbconvert_exporter": "python",
   "pygments_lexer": "ipython3",
   "version": "3.6.3"
  }
 },
 "nbformat": 4,
 "nbformat_minor": 2
}
