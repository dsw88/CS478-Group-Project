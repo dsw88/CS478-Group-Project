{
 "cells": [
  {
   "cell_type": "code",
   "execution_count": 1,
   "metadata": {},
   "outputs": [
    {
     "data": {
      "text/html": [
       "<div>\n",
       "<style>\n",
       "    .dataframe thead tr:only-child th {\n",
       "        text-align: right;\n",
       "    }\n",
       "\n",
       "    .dataframe thead th {\n",
       "        text-align: left;\n",
       "    }\n",
       "\n",
       "    .dataframe tbody tr th {\n",
       "        vertical-align: top;\n",
       "    }\n",
       "</style>\n",
       "<table border=\"1\" class=\"dataframe\">\n",
       "  <thead>\n",
       "    <tr style=\"text-align: right;\">\n",
       "      <th></th>\n",
       "      <th>listing_id</th>\n",
       "      <th>vin</th>\n",
       "      <th>make</th>\n",
       "      <th>model</th>\n",
       "      <th>year</th>\n",
       "      <th>mileage</th>\n",
       "      <th>transmission</th>\n",
       "      <th>exterior_color</th>\n",
       "      <th>state</th>\n",
       "      <th>price</th>\n",
       "      <th>source</th>\n",
       "    </tr>\n",
       "  </thead>\n",
       "  <tbody>\n",
       "    <tr>\n",
       "      <th>14433</th>\n",
       "      <td>728760404</td>\n",
       "      <td>KMHD35LH1EU234022</td>\n",
       "      <td>Hyundai</td>\n",
       "      <td>Elantra</td>\n",
       "      <td>2014</td>\n",
       "      <td>41874.0</td>\n",
       "      <td>Automatic</td>\n",
       "      <td>White</td>\n",
       "      <td>NV</td>\n",
       "      <td>12200</td>\n",
       "      <td>Cars.com</td>\n",
       "    </tr>\n",
       "    <tr>\n",
       "      <th>13133</th>\n",
       "      <td>730092496</td>\n",
       "      <td>KNDPBCA27B7049572</td>\n",
       "      <td>Kia</td>\n",
       "      <td>Sportage</td>\n",
       "      <td>2011</td>\n",
       "      <td>65241.0</td>\n",
       "      <td>Automatic</td>\n",
       "      <td>Blue</td>\n",
       "      <td>OH</td>\n",
       "      <td>10499</td>\n",
       "      <td>Cars.com</td>\n",
       "    </tr>\n",
       "    <tr>\n",
       "      <th>28578</th>\n",
       "      <td>728686244</td>\n",
       "      <td>JTDKDTB36D1051010</td>\n",
       "      <td>Toyota</td>\n",
       "      <td>Prius C</td>\n",
       "      <td>2013</td>\n",
       "      <td>87145.0</td>\n",
       "      <td>Automatic</td>\n",
       "      <td>Blue</td>\n",
       "      <td>NH</td>\n",
       "      <td>9995</td>\n",
       "      <td>Cars.com</td>\n",
       "    </tr>\n",
       "    <tr>\n",
       "      <th>9034</th>\n",
       "      <td>729490176</td>\n",
       "      <td>1FA6P0H70G5124411</td>\n",
       "      <td>Ford</td>\n",
       "      <td>Fusion</td>\n",
       "      <td>2016</td>\n",
       "      <td>21085.0</td>\n",
       "      <td>Automatic</td>\n",
       "      <td>Gray</td>\n",
       "      <td>TN</td>\n",
       "      <td>15998</td>\n",
       "      <td>Cars.com</td>\n",
       "    </tr>\n",
       "    <tr>\n",
       "      <th>39209</th>\n",
       "      <td>5801eeb2-1d37-4afa-b8e2-49ec9acfd4ef</td>\n",
       "      <td>1C4RDJEG0EC464564</td>\n",
       "      <td>Dodge</td>\n",
       "      <td>Durango</td>\n",
       "      <td>2014</td>\n",
       "      <td>77767.0</td>\n",
       "      <td>Automatic</td>\n",
       "      <td>Brilliant Black Crystal Pearlcoat</td>\n",
       "      <td>UT</td>\n",
       "      <td>22493</td>\n",
       "      <td>KSL.com</td>\n",
       "    </tr>\n",
       "  </tbody>\n",
       "</table>\n",
       "</div>"
      ],
      "text/plain": [
       "                                 listing_id                vin     make  \\\n",
       "14433                             728760404  KMHD35LH1EU234022  Hyundai   \n",
       "13133                             730092496  KNDPBCA27B7049572      Kia   \n",
       "28578                             728686244  JTDKDTB36D1051010   Toyota   \n",
       "9034                              729490176  1FA6P0H70G5124411     Ford   \n",
       "39209  5801eeb2-1d37-4afa-b8e2-49ec9acfd4ef  1C4RDJEG0EC464564    Dodge   \n",
       "\n",
       "          model  year  mileage transmission  \\\n",
       "14433   Elantra  2014  41874.0    Automatic   \n",
       "13133  Sportage  2011  65241.0    Automatic   \n",
       "28578   Prius C  2013  87145.0    Automatic   \n",
       "9034     Fusion  2016  21085.0    Automatic   \n",
       "39209   Durango  2014  77767.0    Automatic   \n",
       "\n",
       "                          exterior_color state  price    source  \n",
       "14433                              White    NV  12200  Cars.com  \n",
       "13133                               Blue    OH  10499  Cars.com  \n",
       "28578                               Blue    NH   9995  Cars.com  \n",
       "9034                                Gray    TN  15998  Cars.com  \n",
       "39209  Brilliant Black Crystal Pearlcoat    UT  22493   KSL.com  "
      ]
     },
     "execution_count": 1,
     "metadata": {},
     "output_type": "execute_result"
    }
   ],
   "source": [
    "import pandas as pd\n",
    "from sklearn.kernel_ridge import KernelRidge\n",
    "from sklearn.model_selection import train_test_split\n",
    "import time\n",
    "\n",
    "# import data\n",
    "df = pd.read_csv('../../data/aggregated/processed_data/data-4-7-18-full.csv')\n",
    "df = df.sample(frac=0.2)\n",
    "\n",
    "# replace missing values with mean/mode\n",
    "# Continuous\n",
    "df['mileage'] = df['mileage'].fillna((df['mileage'].mean()))\n",
    "df['year'] = df['year'].fillna((df['year'].mean()))\n",
    "# Categorical\n",
    "df['make'] = df['make'].fillna(df['make'].value_counts().index[0])\n",
    "df['model'] = df['model'].fillna(df['model'].value_counts().index[0])\n",
    "df['state'] = df['state'].fillna(df['state'].value_counts().index[0])\n",
    "df['transmission'] = df['transmission'].fillna(df['transmission'].value_counts().index[0])\n",
    "\n",
    "# choose features and train/test split\n",
    "features = df[['make', 'model', 'mileage', 'state', 'transmission', 'year']]\n",
    "labels = df[['price']]\n",
    "features_encoded = pd.get_dummies(features, columns=['make', 'model', 'state', 'transmission'])\n",
    "X_train, X_test, Y_train, Y_test = train_test_split(features_encoded, labels, test_size=0.2, train_size=0.8)\n",
    "\n",
    "df.head(5)"
   ]
  },
  {
   "cell_type": "markdown",
   "metadata": {},
   "source": [
    "## First Run"
   ]
  },
  {
   "cell_type": "code",
   "execution_count": 2,
   "metadata": {},
   "outputs": [
    {
     "name": "stdout",
     "output_type": "stream",
     "text": [
      "Time to fit: 14.314s\n"
     ]
    }
   ],
   "source": [
    "model = KernelRidge()\n",
    "stime = time.time()\n",
    "model.fit(X_train, Y_train)\n",
    "print(\"Time to fit: %.3fs\" % (time.time() - stime))"
   ]
  },
  {
   "cell_type": "code",
   "execution_count": 3,
   "metadata": {},
   "outputs": [
    {
     "data": {
      "text/plain": [
       "0.6840281774055557"
      ]
     },
     "execution_count": 3,
     "metadata": {},
     "output_type": "execute_result"
    }
   ],
   "source": [
    "model.score(X_test, Y_test)"
   ]
  },
  {
   "cell_type": "markdown",
   "metadata": {
    "collapsed": true
   },
   "source": [
    "## After Normalization"
   ]
  },
  {
   "cell_type": "code",
   "execution_count": 4,
   "metadata": {},
   "outputs": [
    {
     "data": {
      "text/plain": [
       "0.6840281774055557"
      ]
     },
     "execution_count": 4,
     "metadata": {},
     "output_type": "execute_result"
    }
   ],
   "source": [
    "df['mileage'] = (df['mileage']-df['mileage'].mean())/df['mileage'].std() # This approach puts between 0 and 1, is that an issue?\n",
    "df['year'] = (df['year']-df['year'].mean())/df['year'].std()\n",
    "model = KernelRidge()\n",
    "model.fit(X_train, Y_train)\n",
    "model.score(X_test, Y_test)"
   ]
  },
  {
   "cell_type": "code",
   "execution_count": null,
   "metadata": {
    "collapsed": true
   },
   "outputs": [],
   "source": []
  }
 ],
 "metadata": {
  "kernelspec": {
   "display_name": "Python 3",
   "language": "python",
   "name": "python3"
  },
  "language_info": {
   "codemirror_mode": {
    "name": "ipython",
    "version": 3
   },
   "file_extension": ".py",
   "mimetype": "text/x-python",
   "name": "python",
   "nbconvert_exporter": "python",
   "pygments_lexer": "ipython3",
   "version": "3.6.3"
  }
 },
 "nbformat": 4,
 "nbformat_minor": 2
}
