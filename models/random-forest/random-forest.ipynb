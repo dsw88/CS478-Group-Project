{
 "cells": [
  {
   "cell_type": "code",
   "execution_count": 17,
   "metadata": {},
   "outputs": [],
   "source": [
    "import pandas as pd\n",
    "import matplotlib\n",
    "import numpy as np\n",
    "from sklearn import preprocessing\n",
    "from sklearn.ensemble import RandomForestRegressor\n",
    "from sklearn.model_selection import train_test_split"
   ]
  },
  {
   "cell_type": "markdown",
   "metadata": {},
   "source": [
    "# Data Preparation"
   ]
  },
  {
   "cell_type": "code",
   "execution_count": 2,
   "metadata": {},
   "outputs": [],
   "source": [
    "df = pd.read_csv('../../data/aggregated/processed_data/data-3-28-18-restricted.csv')\n",
    "\n",
    "# Replace missing continuous values\n",
    "df['mileage'] = df['mileage'].fillna((df['mileage'].mean()))\n",
    "df['year'] = df['year'].fillna((df['year'].mean()))\n",
    "\n",
    "# Replace missing categorical values\n",
    "df['make'] = df['make'].fillna(df['make'].value_counts().index[0])\n",
    "df['model'] = df['model'].fillna(df['model'].value_counts().index[0])\n",
    "df['state'] = df['state'].fillna(df['state'].value_counts().index[0])\n",
    "df['transmission'] = df['transmission'].fillna(df['transmission'].value_counts().index[0])\n",
    "\n",
    "# Normalize the continuous values\n",
    "df['mileage'] = (df['mileage']-df['mileage'].mean())/df['mileage'].std() # This approach puts between 0 and 1, is that an issue?\n",
    "df['year'] = (df['year']-df['year'].mean())/df['year'].std()"
   ]
  },
  {
   "cell_type": "code",
   "execution_count": 21,
   "metadata": {},
   "outputs": [],
   "source": [
    "features = df[['make', 'model', 'mileage', 'state', 'transmission', 'year']]\n",
    "labels = df[['price']]\n",
    "features_encoded = pd.get_dummies(features, columns=['make', 'model', 'state', 'transmission'])\n",
    "X_train, X_test, Y_train, Y_test = train_test_split(features_encoded, labels, test_size=0.2, train_size=0.8)"
   ]
  },
  {
   "cell_type": "markdown",
   "metadata": {},
   "source": [
    "# First Run"
   ]
  },
  {
   "cell_type": "code",
   "execution_count": 27,
   "metadata": {},
   "outputs": [],
   "source": [
    "model = RandomForestRegressor(n_estimators=20, n_jobs=-1)"
   ]
  },
  {
   "cell_type": "code",
   "execution_count": null,
   "metadata": {},
   "outputs": [
    {
     "name": "stderr",
     "output_type": "stream",
     "text": [
      "C:\\Users\\dswoo\\Anaconda3\\lib\\site-packages\\ipykernel_launcher.py:1: DataConversionWarning: A column-vector y was passed when a 1d array was expected. Please change the shape of y to (n_samples,), for example using ravel().\n",
      "  \"\"\"Entry point for launching an IPython kernel.\n"
     ]
    }
   ],
   "source": [
    "model.fit(X_train, Y_train)"
   ]
  },
  {
   "cell_type": "code",
   "execution_count": null,
   "metadata": {},
   "outputs": [],
   "source": [
    "model.score(X_test, Y_test)"
   ]
  },
  {
   "cell_type": "code",
   "execution_count": null,
   "metadata": {},
   "outputs": [],
   "source": []
  }
 ],
 "metadata": {
  "kernelspec": {
   "display_name": "Python 3",
   "language": "python",
   "name": "python3"
  },
  "language_info": {
   "codemirror_mode": {
    "name": "ipython",
    "version": 3
   },
   "file_extension": ".py",
   "mimetype": "text/x-python",
   "name": "python",
   "nbconvert_exporter": "python",
   "pygments_lexer": "ipython3",
   "version": "3.6.3"
  }
 },
 "nbformat": 4,
 "nbformat_minor": 2
}
