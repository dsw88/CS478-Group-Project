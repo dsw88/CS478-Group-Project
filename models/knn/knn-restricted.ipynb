{
 "cells": [
  {
   "cell_type": "code",
   "execution_count": 1,
   "metadata": {},
   "outputs": [
    {
     "name": "stderr",
     "output_type": "stream",
     "text": [
      "/users/guest/d/dsw88/.virtualenvs/cs478/lib/python3.5/site-packages/ipykernel_launcher.py:14: FutureWarning: convert_objects is deprecated.  To re-infer data dtypes for object columns, use Series.infer_objects()\n",
      "For all other conversions use the data-type specific converters pd.to_datetime, pd.to_timedelta and pd.to_numeric.\n",
      "  \n",
      "/users/guest/d/dsw88/.virtualenvs/cs478/lib/python3.5/site-packages/ipykernel_launcher.py:15: FutureWarning: convert_objects is deprecated.  To re-infer data dtypes for object columns, use Series.infer_objects()\n",
      "For all other conversions use the data-type specific converters pd.to_datetime, pd.to_timedelta and pd.to_numeric.\n",
      "  from ipykernel import kernelapp as app\n",
      "/users/guest/d/dsw88/.virtualenvs/cs478/lib/python3.5/site-packages/ipykernel_launcher.py:16: FutureWarning: convert_objects is deprecated.  To re-infer data dtypes for object columns, use Series.infer_objects()\n",
      "For all other conversions use the data-type specific converters pd.to_datetime, pd.to_timedelta and pd.to_numeric.\n",
      "  app.launch_new_instance()\n",
      "/users/guest/d/dsw88/.virtualenvs/cs478/lib/python3.5/site-packages/ipykernel_launcher.py:19: FutureWarning: reshape is deprecated and will raise in a subsequent release. Please use .values.reshape(...) instead\n",
      "/users/guest/d/dsw88/.virtualenvs/cs478/lib/python3.5/site-packages/ipykernel_launcher.py:22: FutureWarning: reshape is deprecated and will raise in a subsequent release. Please use .values.reshape(...) instead\n"
     ]
    }
   ],
   "source": [
    "import pandas as pd\n",
    "import matplotlib\n",
    "import numpy as np\n",
    "from sklearn import preprocessing\n",
    "from sklearn import linear_model\n",
    "from sklearn import ensemble\n",
    "from sklearn import neighbors\n",
    "from sklearn.model_selection import train_test_split\n",
    "from sklearn import tree\n",
    "df = pd.read_csv('../../data/aggregated/processed_data/data-3-28-18-restricted.csv')\n",
    "\n",
    "# Continuous\n",
    "df=df.replace(\"not specified\",np.nan)\n",
    "df['mileage']=df['mileage'].convert_objects(convert_numeric=True)\n",
    "df['year']=df['year'].convert_objects(convert_numeric=True)\n",
    "df['price']=df['price'].convert_objects(convert_numeric=True)\n",
    "\n",
    "#Numerical-normalize the values\n",
    "df['mileage'] = preprocessing.normalize(df['mileage'].fillna((df['mileage'].mean())).reshape(1,-1), norm='l2').reshape(-1,1)\n",
    "df['year'] =  df['year'].fillna((df['year'].mean()))\n",
    "df['year']=df['year']-1990\n",
    "df['year'] =  preprocessing.normalize(df['year'].fillna((df['year'].mean())).reshape(1,-1)).reshape(-1,1)\n",
    "df['year']=df['year'].apply(lambda x: x if x>1000 else x*100)\n",
    "df['mileage'] = df['mileage'].fillna((df['mileage'].mean()))\n",
    "df['mileage']=df['mileage'].apply(lambda x: x if x>1000 else x*1000)\n",
    "df['price'] = df['price'].fillna((df['price'].mean()))\n",
    "\n",
    "\n",
    "# Categorical\n",
    "df['make'] = df['make'].fillna(df['make'].value_counts().index[0])\n",
    "df['model'] = df['model'].fillna(df['model'].value_counts().index[0])\n",
    "df['state'] = df['state'].fillna(df['state'].value_counts().index[0])\n",
    "df['transmission'] = df['transmission'].fillna(df['transmission'].value_counts().index[0])"
   ]
  },
  {
   "cell_type": "code",
   "execution_count": 2,
   "metadata": {
    "collapsed": true
   },
   "outputs": [],
   "source": [
    "\n",
    "features = df[['make', 'model', 'mileage', 'state', 'transmission', 'year']]\n",
    "labels = df[['price']]\n",
    "\n",
    "features_encoded = pd.get_dummies(features, columns=['make', 'model', 'state', 'transmission'])\n",
    "X_train, X_test, Y_train, Y_test = train_test_split(features_encoded, labels, test_size=0.2, train_size=0.8)"
   ]
  },
  {
   "cell_type": "markdown",
   "metadata": {},
   "source": [
    "# knn\n",
    "\n",
    "Normalizing the mileage and years took the score from .27 to .79"
   ]
  },
  {
   "cell_type": "code",
   "execution_count": 3,
   "metadata": {},
   "outputs": [
    {
     "data": {
      "text/plain": [
       "KNeighborsRegressor(algorithm='auto', leaf_size=30, metric='minkowski',\n",
       "          metric_params=None, n_jobs=1, n_neighbors=10, p=2,\n",
       "          weights='uniform')"
      ]
     },
     "execution_count": 3,
     "metadata": {},
     "output_type": "execute_result"
    }
   ],
   "source": [
    "knn_model = neighbors.KNeighborsRegressor(n_neighbors=10)\n",
    "knn_model.fit(X_train, Y_train)"
   ]
  },
  {
   "cell_type": "code",
   "execution_count": 4,
   "metadata": {},
   "outputs": [
    {
     "data": {
      "text/plain": [
       "0.79767296319578274"
      ]
     },
     "execution_count": 4,
     "metadata": {},
     "output_type": "execute_result"
    }
   ],
   "source": [
    "knn_model.score(X_test, Y_test)"
   ]
  }
 ],
 "metadata": {
  "kernelspec": {
   "display_name": "Python 3",
   "language": "python",
   "name": "python3"
  },
  "language_info": {
   "codemirror_mode": {
    "name": "ipython",
    "version": 3
   },
   "file_extension": ".py",
   "mimetype": "text/x-python",
   "name": "python",
   "nbconvert_exporter": "python",
   "pygments_lexer": "ipython3",
   "version": "3.5.2"
  }
 },
 "nbformat": 4,
 "nbformat_minor": 2
}
