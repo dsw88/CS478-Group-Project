{
 "cells": [
  {
   "cell_type": "code",
   "execution_count": 16,
   "metadata": {},
   "outputs": [],
   "source": [
    "import pandas as pd\n",
    "import matplotlib\n",
    "import numpy as np\n",
    "from sklearn import preprocessing\n",
    "from sklearn import neural_network\n",
    "from sklearn.model_selection import train_test_split\n",
    "from sklearn.preprocessing import OneHotEncoder, LabelEncoder"
   ]
  },
  {
   "cell_type": "code",
   "execution_count": 32,
   "metadata": {},
   "outputs": [],
   "source": [
    "df = pd.read_csv('../data/aggregated/processed_data/data-4-7-18-full.csv')\n",
    "\n",
    "class PreprocessCars:\n",
    "    \"\"\"Code to preprocess the dataframe in preparation for training\"\"\"\n",
    "    def get_train_test(self, orig_df):\n",
    "        # Replace missing continuous values\n",
    "        df = orig_df.copy(deep=True)\n",
    "        df['mileage'] = df['mileage'].fillna((df['mileage'].mean()))\n",
    "        df['year'] = df['year'].fillna((df['year'].mean()))\n",
    "        \n",
    "        # Replace missing categorical values\n",
    "        df['make'] = df['make'].fillna(df['make'].value_counts().index[0])\n",
    "        df['model'] = df['model'].fillna(df['model'].value_counts().index[0])\n",
    "        df['state'] = df['state'].fillna(df['state'].value_counts().index[0])\n",
    "        df['transmission'] = df['transmission'].fillna(df['transmission'].value_counts().index[0])\n",
    "        \n",
    "        # Normalize the continuous values\n",
    "        df['mileage'] = (df['mileage']-df['mileage'].mean())/df['mileage'].std() # This approach puts between 0 and 1, is that an issue?\n",
    "        df['year'] = (df['year']-df['year'].mean())/df['year'].std()\n",
    "        \n",
    "        # Only select a subset of features\n",
    "        features = df[['make', 'model', 'mileage', 'state', 'transmission', 'year']]\n",
    "        labels = df[['price']]\n",
    "        \n",
    "        # TODO - encode categorical features\n",
    "        features_encoded = pd.get_dummies(features, columns=['make', 'model', 'state', 'transmission'])\n",
    "        X_train, X_test, Y_train, Y_test = train_test_split(features_encoded, labels, test_size=0.2, train_size=0.8)\n",
    "        return X_train, X_test, Y_train, Y_test\n"
   ]
  },
  {
   "cell_type": "code",
   "execution_count": 33,
   "metadata": {},
   "outputs": [
    {
     "data": {
      "text/html": [
       "<div>\n",
       "<style scoped>\n",
       "    .dataframe tbody tr th:only-of-type {\n",
       "        vertical-align: middle;\n",
       "    }\n",
       "\n",
       "    .dataframe tbody tr th {\n",
       "        vertical-align: top;\n",
       "    }\n",
       "\n",
       "    .dataframe thead th {\n",
       "        text-align: right;\n",
       "    }\n",
       "</style>\n",
       "<table border=\"1\" class=\"dataframe\">\n",
       "  <thead>\n",
       "    <tr style=\"text-align: right;\">\n",
       "      <th></th>\n",
       "      <th>mileage</th>\n",
       "      <th>year</th>\n",
       "      <th>make_Acura</th>\n",
       "      <th>make_Aston Martin</th>\n",
       "      <th>make_Audi</th>\n",
       "      <th>make_BMW</th>\n",
       "      <th>make_Bentley</th>\n",
       "      <th>make_Buick</th>\n",
       "      <th>make_Cadillac</th>\n",
       "      <th>make_Chevrolet</th>\n",
       "      <th>...</th>\n",
       "      <th>state_Ut</th>\n",
       "      <th>state_Utah</th>\n",
       "      <th>state_VA</th>\n",
       "      <th>state_VT</th>\n",
       "      <th>state_WA</th>\n",
       "      <th>state_WI</th>\n",
       "      <th>state_WV</th>\n",
       "      <th>state_WY</th>\n",
       "      <th>transmission_Automatic</th>\n",
       "      <th>transmission_Manual</th>\n",
       "    </tr>\n",
       "  </thead>\n",
       "  <tbody>\n",
       "    <tr>\n",
       "      <th>37015</th>\n",
       "      <td>-0.420357</td>\n",
       "      <td>0.22652</td>\n",
       "      <td>0</td>\n",
       "      <td>0</td>\n",
       "      <td>0</td>\n",
       "      <td>0</td>\n",
       "      <td>0</td>\n",
       "      <td>0</td>\n",
       "      <td>0</td>\n",
       "      <td>0</td>\n",
       "      <td>...</td>\n",
       "      <td>0</td>\n",
       "      <td>0</td>\n",
       "      <td>0</td>\n",
       "      <td>0</td>\n",
       "      <td>0</td>\n",
       "      <td>0</td>\n",
       "      <td>0</td>\n",
       "      <td>0</td>\n",
       "      <td>1</td>\n",
       "      <td>0</td>\n",
       "    </tr>\n",
       "  </tbody>\n",
       "</table>\n",
       "<p>1 rows × 717 columns</p>\n",
       "</div>"
      ],
      "text/plain": [
       "        mileage     year  make_Acura  make_Aston Martin  make_Audi  make_BMW  \\\n",
       "37015 -0.420357  0.22652           0                  0          0         0   \n",
       "\n",
       "       make_Bentley  make_Buick  make_Cadillac  make_Chevrolet  \\\n",
       "37015             0           0              0               0   \n",
       "\n",
       "              ...           state_Ut  state_Utah  state_VA  state_VT  \\\n",
       "37015         ...                  0           0         0         0   \n",
       "\n",
       "       state_WA  state_WI  state_WV  state_WY  transmission_Automatic  \\\n",
       "37015         0         0         0         0                       1   \n",
       "\n",
       "       transmission_Manual  \n",
       "37015                    0  \n",
       "\n",
       "[1 rows x 717 columns]"
      ]
     },
     "execution_count": 33,
     "metadata": {},
     "output_type": "execute_result"
    }
   ],
   "source": [
    "preprocessor = PreprocessCars()\n",
    "X_train, X_test, Y_train, Y_test = preprocessor.get_train_test(df)\n",
    "X_train.head(1)\n",
    "\n",
    "# features_encoded = pd.get_dummies(features, columns=['make', 'model', 'state', 'transmission'])\n",
    "# label_encoder = LabelEncoder()\n",
    "# label_encoder.fit_transform(features)\n",
    "# enc = OneHotEncoder()\n",
    "# features_encoded = enc.fit_transform(features)\n",
    "# label_encoded_features.head(1)\n",
    "#X_train, X_test, Y_train, Y_test = train_test_split(features_encoded, labels, test_size=0.2, train_size=0.8)"
   ]
  },
  {
   "cell_type": "code",
   "execution_count": 34,
   "metadata": {},
   "outputs": [
    {
     "name": "stderr",
     "output_type": "stream",
     "text": [
      "/users/guest/d/dsw88/.virtualenvs/cs478/lib/python3.5/site-packages/sklearn/neural_network/multilayer_perceptron.py:1306: DataConversionWarning: A column-vector y was passed when a 1d array was expected. Please change the shape of y to (n_samples, ), for example using ravel().\n",
      "  y = column_or_1d(y, warn=True)\n",
      "/users/guest/d/dsw88/.virtualenvs/cs478/lib/python3.5/site-packages/sklearn/neural_network/multilayer_perceptron.py:564: ConvergenceWarning: Stochastic Optimizer: Maximum iterations (200) reached and the optimization hasn't converged yet.\n",
      "  % self.max_iter, ConvergenceWarning)\n"
     ]
    },
    {
     "data": {
      "text/plain": [
       "MLPRegressor(activation='relu', alpha=0.0001, batch_size='auto', beta_1=0.9,\n",
       "       beta_2=0.999, early_stopping=False, epsilon=1e-08,\n",
       "       hidden_layer_sizes=(100, 100), learning_rate='constant',\n",
       "       learning_rate_init=0.001, max_iter=200, momentum=0.9,\n",
       "       nesterovs_momentum=True, power_t=0.5, random_state=None,\n",
       "       shuffle=True, solver='adam', tol=0.0001, validation_fraction=0.1,\n",
       "       verbose=False, warm_start=False)"
      ]
     },
     "execution_count": 34,
     "metadata": {},
     "output_type": "execute_result"
    }
   ],
   "source": [
    "mlp_model = neural_network.MLPRegressor(hidden_layer_sizes=(100,100))\n",
    "mlp_model.fit(X_train, Y_train)"
   ]
  },
  {
   "cell_type": "code",
   "execution_count": 35,
   "metadata": {},
   "outputs": [
    {
     "data": {
      "text/plain": [
       "0.8745887985884477"
      ]
     },
     "execution_count": 35,
     "metadata": {},
     "output_type": "execute_result"
    }
   ],
   "source": [
    "mlp_model.score(X_test, Y_test)"
   ]
  },
  {
   "cell_type": "markdown",
   "metadata": {},
   "source": [
    "# Save Model\n",
    "Dump the preprocessor class and trained model:"
   ]
  },
  {
   "cell_type": "code",
   "execution_count": 41,
   "metadata": {},
   "outputs": [],
   "source": [
    "import pickle\n",
    "with open('../webapp/feature-preprocessor.pkl', 'wb') as preprocessorFile:\n",
    "    pickle.dump(preprocessor, preprocessorFile)\n",
    "with open('../webapp/trained-model.pkl', 'wb') as modelFile:\n",
    "    pickle.dump(mlp_model, modelFile)"
   ]
  },
  {
   "cell_type": "code",
   "execution_count": null,
   "metadata": {},
   "outputs": [],
   "source": []
  }
 ],
 "metadata": {
  "kernelspec": {
   "display_name": "Python 3",
   "language": "python",
   "name": "python3"
  },
  "language_info": {
   "codemirror_mode": {
    "name": "ipython",
    "version": 3
   },
   "file_extension": ".py",
   "mimetype": "text/x-python",
   "name": "python",
   "nbconvert_exporter": "python",
   "pygments_lexer": "ipython3",
   "version": "3.5.2"
  }
 },
 "nbformat": 4,
 "nbformat_minor": 2
}
