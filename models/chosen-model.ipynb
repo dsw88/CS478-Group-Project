{
 "cells": [
  {
   "cell_type": "code",
   "execution_count": 8,
   "metadata": {},
   "outputs": [],
   "source": [
    "import pandas as pd\n",
    "import matplotlib\n",
    "import numpy as np\n",
    "from sklearn import preprocessing\n",
    "from sklearn import neural_network\n",
    "from sklearn.model_selection import train_test_split\n",
    "from sklearn.preprocessing import OneHotEncoder, LabelEncoder\n",
    "import dill as pickle"
   ]
  },
  {
   "cell_type": "code",
   "execution_count": 17,
   "metadata": {},
   "outputs": [],
   "source": [
    "df = pd.read_csv('../data/aggregated/processed_data/data-4-7-18-full.csv')\n",
    "\n",
    "class PreprocessCars:\n",
    "    \"\"\"Code to preprocess the dataframe in preparation for training\"\"\"\n",
    "    \n",
    "    def get_features_encoded(self, orig_df, pandas_obj):\n",
    "        # Replace missing continuous values\n",
    "        df = orig_df.copy(deep=True)\n",
    "        df['mileage'] = df['mileage'].fillna((df['mileage'].mean()))\n",
    "        df['year'] = df['year'].fillna((df['year'].mean()))\n",
    "        \n",
    "        # Replace missing categorical values\n",
    "        df['make'] = df['make'].fillna(df['make'].value_counts().index[0])\n",
    "        df['model'] = df['model'].fillna(df['model'].value_counts().index[0])\n",
    "        df['state'] = df['state'].fillna(df['state'].value_counts().index[0])\n",
    "        df['transmission'] = df['transmission'].fillna(df['transmission'].value_counts().index[0])\n",
    "        \n",
    "        # Normalize the continuous values\n",
    "        df['mileage'] = (df['mileage']-df['mileage'].mean())/df['mileage'].std() # This approach puts between 0 and 1, is that an issue?\n",
    "        df['year'] = (df['year']-df['year'].mean())/df['year'].std()\n",
    "        \n",
    "        # Only select a subset of features\n",
    "        features = df[['make', 'model', 'mileage', 'state', 'transmission', 'year']]\n",
    "        labels = df[['price']]\n",
    "        \n",
    "        # TODO - encode categorical features\n",
    "        features_encoded = pandas_obj.get_dummies(features, columns=['make', 'model', 'state', 'transmission'])\n",
    "        return features_encoded, labels\n",
    "    \n",
    "    def get_train_test(self, orig_df, pandas_obj):\n",
    "        features_encoded, labels = self.get_features_encoded(orig_df, pandas_obj)\n",
    "        X_train, X_test, Y_train, Y_test = train_test_split(features_encoded, labels, test_size=0.2, train_size=0.8)\n",
    "        return X_train, X_test, Y_train, Y_test\n"
   ]
  },
  {
   "cell_type": "code",
   "execution_count": 18,
   "metadata": {},
   "outputs": [],
   "source": [
    "preprocessor = PreprocessCars()\n",
    "X_train, X_test, Y_train, Y_test = preprocessor.get_train_test(df, pd)"
   ]
  },
  {
   "cell_type": "code",
   "execution_count": 19,
   "metadata": {},
   "outputs": [
    {
     "name": "stderr",
     "output_type": "stream",
     "text": [
      "/users/guest/d/dsw88/.virtualenvs/cs478/lib/python3.5/site-packages/sklearn/neural_network/multilayer_perceptron.py:1306: DataConversionWarning: A column-vector y was passed when a 1d array was expected. Please change the shape of y to (n_samples, ), for example using ravel().\n",
      "  y = column_or_1d(y, warn=True)\n",
      "/users/guest/d/dsw88/.virtualenvs/cs478/lib/python3.5/site-packages/sklearn/neural_network/multilayer_perceptron.py:564: ConvergenceWarning: Stochastic Optimizer: Maximum iterations (200) reached and the optimization hasn't converged yet.\n",
      "  % self.max_iter, ConvergenceWarning)\n"
     ]
    },
    {
     "data": {
      "text/plain": [
       "MLPRegressor(activation='relu', alpha=0.0001, batch_size='auto', beta_1=0.9,\n",
       "       beta_2=0.999, early_stopping=False, epsilon=1e-08,\n",
       "       hidden_layer_sizes=(100, 100), learning_rate='constant',\n",
       "       learning_rate_init=0.001, max_iter=200, momentum=0.9,\n",
       "       nesterovs_momentum=True, power_t=0.5, random_state=None,\n",
       "       shuffle=True, solver='adam', tol=0.0001, validation_fraction=0.1,\n",
       "       verbose=False, warm_start=False)"
      ]
     },
     "execution_count": 19,
     "metadata": {},
     "output_type": "execute_result"
    }
   ],
   "source": [
    "mlp_model = neural_network.MLPRegressor(hidden_layer_sizes=(100,100))\n",
    "mlp_model.fit(X_train, Y_train)"
   ]
  },
  {
   "cell_type": "code",
   "execution_count": 20,
   "metadata": {},
   "outputs": [
    {
     "data": {
      "text/plain": [
       "0.8827872879646868"
      ]
     },
     "execution_count": 20,
     "metadata": {},
     "output_type": "execute_result"
    }
   ],
   "source": [
    "mlp_model.score(X_test, Y_test)"
   ]
  },
  {
   "cell_type": "markdown",
   "metadata": {},
   "source": [
    "# Save Model\n",
    "Dump the preprocessor class and trained model:"
   ]
  },
  {
   "cell_type": "code",
   "execution_count": 21,
   "metadata": {},
   "outputs": [],
   "source": [
    "with open('../webapp/feature-preprocessor.pkl', 'wb') as preprocessorFile:\n",
    "    pickle.dump(preprocessor, preprocessorFile)\n",
    "with open('../webapp/trained-model.pkl', 'wb') as modelFile:\n",
    "    pickle.dump(mlp_model, modelFile)"
   ]
  },
  {
   "cell_type": "code",
   "execution_count": null,
   "metadata": {},
   "outputs": [],
   "source": []
  }
 ],
 "metadata": {
  "kernelspec": {
   "display_name": "Python 3",
   "language": "python",
   "name": "python3"
  },
  "language_info": {
   "codemirror_mode": {
    "name": "ipython",
    "version": 3
   },
   "file_extension": ".py",
   "mimetype": "text/x-python",
   "name": "python",
   "nbconvert_exporter": "python",
   "pygments_lexer": "ipython3",
   "version": "3.5.2"
  }
 },
 "nbformat": 4,
 "nbformat_minor": 2
}
