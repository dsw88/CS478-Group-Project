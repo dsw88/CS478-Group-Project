{
 "cells": [
  {
   "cell_type": "code",
   "execution_count": 2,
   "metadata": {},
   "outputs": [],
   "source": [
    "import pandas as pd\n",
    "import numpy as np\n",
    "from sklearn import preprocessing\n",
    "from sklearn import neural_network\n",
    "from sklearn.model_selection import train_test_split\n",
    "from sklearn.preprocessing import OneHotEncoder, LabelEncoder\n",
    "import dill as pickle"
   ]
  },
  {
   "cell_type": "code",
   "execution_count": 3,
   "metadata": {},
   "outputs": [],
   "source": [
    "df = pd.read_csv('../data/aggregated/processed_data/data-4-7-18-full.csv')\n",
    "\n",
    "class PreprocessCars:\n",
    "    \"\"\"Code to preprocess the dataframe in preparation for training\"\"\"\n",
    "    \n",
    "    def get_features_encoded(self, orig_df, pandas_obj):\n",
    "        # Replace missing continuous values\n",
    "        df = orig_df.copy(deep=True)\n",
    "        df['mileage'] = df['mileage'].fillna((df['mileage'].mean()))\n",
    "        df['year'] = df['year'].fillna((df['year'].mean()))\n",
    "        \n",
    "        # Replace missing categorical values\n",
    "        df['make'] = df['make'].fillna(df['make'].value_counts().index[0])\n",
    "        df['model'] = df['model'].fillna(df['model'].value_counts().index[0])\n",
    "        df['state'] = df['state'].fillna(df['state'].value_counts().index[0])\n",
    "        df['transmission'] = df['transmission'].fillna(df['transmission'].value_counts().index[0])\n",
    "        \n",
    "        # Normalize the continuous values\n",
    "        df['mileage'] = (df['mileage']-df['mileage'].mean())/df['mileage'].std() # This approach puts between 0 and 1, is that an issue?\n",
    "        df['year'] = (df['year']-df['year'].mean())/df['year'].std()\n",
    "        \n",
    "        # Only select a subset of features\n",
    "        features = df[['make', 'model', 'mileage', 'state', 'transmission', 'year']]\n",
    "        labels = df[['price']]\n",
    "        \n",
    "        # TODO - encode categorical features\n",
    "        features_encoded = pandas_obj.get_dummies(features, columns=['make', 'model', 'state', 'transmission'])\n",
    "        return features_encoded, labels\n",
    "    \n",
    "    def get_train_test(self, orig_df, pandas_obj):\n",
    "        features_encoded, labels = self.get_features_encoded(orig_df, pandas_obj)\n",
    "        X_train, X_test, Y_train, Y_test = train_test_split(features_encoded, labels, test_size=0.2, train_size=0.8)\n",
    "        return X_train, X_test, Y_train, Y_test\n"
   ]
  },
  {
   "cell_type": "code",
   "execution_count": 4,
   "metadata": {},
   "outputs": [],
   "source": [
    "preprocessor = PreprocessCars()\n",
    "X_train, X_test, Y_train, Y_test = preprocessor.get_train_test(df, pd)"
   ]
  },
  {
   "cell_type": "markdown",
   "metadata": {},
   "source": [
    "# Train MLP Model"
   ]
  },
  {
   "cell_type": "code",
   "execution_count": 16,
   "metadata": {},
   "outputs": [
    {
     "name": "stderr",
     "output_type": "stream",
     "text": [
      "C:\\Users\\dswoo\\Anaconda3\\lib\\site-packages\\sklearn\\neural_network\\multilayer_perceptron.py:1306: DataConversionWarning: A column-vector y was passed when a 1d array was expected. Please change the shape of y to (n_samples, ), for example using ravel().\n",
      "  y = column_or_1d(y, warn=True)\n",
      "C:\\Users\\dswoo\\Anaconda3\\lib\\site-packages\\sklearn\\neural_network\\multilayer_perceptron.py:564: ConvergenceWarning: Stochastic Optimizer: Maximum iterations (200) reached and the optimization hasn't converged yet.\n",
      "  % self.max_iter, ConvergenceWarning)\n"
     ]
    },
    {
     "data": {
      "text/plain": [
       "0.88138514464489481"
      ]
     },
     "execution_count": 16,
     "metadata": {},
     "output_type": "execute_result"
    }
   ],
   "source": [
    "mlp_model = neural_network.MLPRegressor(hidden_layer_sizes=(100,100))\n",
    "mlp_model.fit(X_train, Y_train)\n",
    "mlp_model.score(X_test, Y_test)"
   ]
  },
  {
   "cell_type": "markdown",
   "metadata": {},
   "source": [
    "# Train Gradient Boosting Model"
   ]
  },
  {
   "cell_type": "code",
   "execution_count": 21,
   "metadata": {},
   "outputs": [
    {
     "name": "stderr",
     "output_type": "stream",
     "text": [
      "C:\\Users\\dswoo\\Anaconda3\\lib\\site-packages\\sklearn\\utils\\validation.py:578: DataConversionWarning: A column-vector y was passed when a 1d array was expected. Please change the shape of y to (n_samples, ), for example using ravel().\n",
      "  y = column_or_1d(y, warn=True)\n"
     ]
    },
    {
     "data": {
      "text/plain": [
       "0.86665746630277041"
      ]
     },
     "execution_count": 21,
     "metadata": {},
     "output_type": "execute_result"
    }
   ],
   "source": [
    "from sklearn import ensemble\n",
    "gb_model = ensemble.GradientBoostingRegressor(learning_rate=.6, n_estimators=200, max_depth=4)\n",
    "gb_model.fit(X_train, Y_train)\n",
    "gb_model.score(X_test, Y_test)"
   ]
  },
  {
   "cell_type": "markdown",
   "metadata": {},
   "source": [
    "# Train Random Forest Model"
   ]
  },
  {
   "cell_type": "code",
   "execution_count": 22,
   "metadata": {},
   "outputs": [
    {
     "name": "stderr",
     "output_type": "stream",
     "text": [
      "C:\\Users\\dswoo\\Anaconda3\\lib\\site-packages\\ipykernel_launcher.py:3: DataConversionWarning: A column-vector y was passed when a 1d array was expected. Please change the shape of y to (n_samples,), for example using ravel().\n",
      "  This is separate from the ipykernel package so we can avoid doing imports until\n"
     ]
    },
    {
     "data": {
      "text/plain": [
       "0.85940818970574373"
      ]
     },
     "execution_count": 22,
     "metadata": {},
     "output_type": "execute_result"
    }
   ],
   "source": [
    "from sklearn.ensemble import RandomForestRegressor\n",
    "rf_model = RandomForestRegressor(n_estimators=20, n_jobs=-1)\n",
    "rf_model.fit(X_train, Y_train)\n",
    "rf_model.score(X_test, Y_test)"
   ]
  },
  {
   "cell_type": "markdown",
   "metadata": {},
   "source": [
    "# Save Models\n",
    "Dump the preprocessor class and trained models:"
   ]
  },
  {
   "cell_type": "code",
   "execution_count": 12,
   "metadata": {},
   "outputs": [],
   "source": [
    "with open('../webapp/feature-preprocessor.pkl', 'wb') as preprocessorFile:\n",
    "    pickle.dump(preprocessor, preprocessorFile)\n",
    "with open('../webapp/mlp-model.pkl', 'wb') as modelFile:\n",
    "    pickle.dump(mlp_model, modelFile)\n",
    "with open('../webapp/gb-model.pkl', 'wb') as modelFile:\n",
    "    pickle.dump(gb_model, modelFile)\n",
    "with open('../webapp/rf-model.pkl', 'wb') as modelFile:\n",
    "    pickle.dump(rf_model, modelFile)"
   ]
  },
  {
   "cell_type": "code",
   "execution_count": null,
   "metadata": {},
   "outputs": [],
   "source": []
  }
 ],
 "metadata": {
  "kernelspec": {
   "display_name": "Python 3",
   "language": "python",
   "name": "python3"
  },
  "language_info": {
   "codemirror_mode": {
    "name": "ipython",
    "version": 3
   },
   "file_extension": ".py",
   "mimetype": "text/x-python",
   "name": "python",
   "nbconvert_exporter": "python",
   "pygments_lexer": "ipython3",
   "version": "3.6.3"
  }
 },
 "nbformat": 4,
 "nbformat_minor": 2
}
