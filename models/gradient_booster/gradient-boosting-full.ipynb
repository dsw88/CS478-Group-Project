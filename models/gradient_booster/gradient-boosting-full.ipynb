{
 "cells": [
  {
   "cell_type": "code",
   "execution_count": 4,
   "metadata": {},
   "outputs": [
    {
     "name": "stderr",
     "output_type": "stream",
     "text": [
      "/users/guest/d/dsw88/.virtualenvs/cs478/lib/python3.5/site-packages/ipykernel_launcher.py:14: FutureWarning: convert_objects is deprecated.  To re-infer data dtypes for object columns, use Series.infer_objects()\n",
      "For all other conversions use the data-type specific converters pd.to_datetime, pd.to_timedelta and pd.to_numeric.\n",
      "  \n",
      "/users/guest/d/dsw88/.virtualenvs/cs478/lib/python3.5/site-packages/ipykernel_launcher.py:15: FutureWarning: convert_objects is deprecated.  To re-infer data dtypes for object columns, use Series.infer_objects()\n",
      "For all other conversions use the data-type specific converters pd.to_datetime, pd.to_timedelta and pd.to_numeric.\n",
      "  from ipykernel import kernelapp as app\n",
      "/users/guest/d/dsw88/.virtualenvs/cs478/lib/python3.5/site-packages/ipykernel_launcher.py:16: FutureWarning: convert_objects is deprecated.  To re-infer data dtypes for object columns, use Series.infer_objects()\n",
      "For all other conversions use the data-type specific converters pd.to_datetime, pd.to_timedelta and pd.to_numeric.\n",
      "  app.launch_new_instance()\n",
      "/users/guest/d/dsw88/.virtualenvs/cs478/lib/python3.5/site-packages/ipykernel_launcher.py:19: FutureWarning: reshape is deprecated and will raise in a subsequent release. Please use .values.reshape(...) instead\n",
      "/users/guest/d/dsw88/.virtualenvs/cs478/lib/python3.5/site-packages/ipykernel_launcher.py:22: FutureWarning: reshape is deprecated and will raise in a subsequent release. Please use .values.reshape(...) instead\n"
     ]
    }
   ],
   "source": [
    "import pandas as pd\n",
    "import matplotlib\n",
    "import numpy as np\n",
    "from sklearn import preprocessing\n",
    "from sklearn import linear_model\n",
    "from sklearn import ensemble\n",
    "from sklearn import neighbors\n",
    "from sklearn.model_selection import train_test_split\n",
    "from sklearn import tree\n",
    "df = pd.read_csv('../../data/aggregated/processed_data/data-4-7-18-full.csv')\n",
    "\n",
    "# Continuous\n",
    "df=df.replace(\"not specified\",np.nan)\n",
    "df['mileage']=df['mileage'].convert_objects(convert_numeric=True)\n",
    "df['year']=df['year'].convert_objects(convert_numeric=True)\n",
    "df['price']=df['price'].convert_objects(convert_numeric=True)\n",
    "\n",
    "#Numerical-normalize the values\n",
    "df['mileage'] = preprocessing.normalize(df['mileage'].fillna((df['mileage'].mean())).reshape(1,-1), norm='l2').reshape(-1,1)\n",
    "df['year'] =  df['year'].fillna((df['year'].mean()))\n",
    "df['year']=df['year']-1990\n",
    "df['year'] =  preprocessing.normalize(df['year'].fillna((df['year'].mean())).reshape(1,-1)).reshape(-1,1)\n",
    "df['year']=df['year'].apply(lambda x: x if x>1000 else x*100)\n",
    "df['mileage'] = df['mileage'].fillna((df['mileage'].mean()))\n",
    "df['mileage']=df['mileage'].apply(lambda x: x if x>1000 else x*1000)\n",
    "df['price'] = df['price'].fillna((df['price'].mean()))\n",
    "\n",
    "\n",
    "# Categorical\n",
    "df['make'] = df['make'].fillna(df['make'].value_counts().index[0])\n",
    "df['model'] = df['model'].fillna(df['model'].value_counts().index[0])\n",
    "df['state'] = df['state'].fillna(df['state'].value_counts().index[0])\n",
    "df['transmission'] = df['transmission'].fillna(df['transmission'].value_counts().index[0])\n",
    "\n"
   ]
  },
  {
   "cell_type": "markdown",
   "metadata": {},
   "source": [
    "# Gradient Boosting\n",
    "This notebook uses the full dataset to see what kind of performance we can get"
   ]
  },
  {
   "cell_type": "code",
   "execution_count": 5,
   "metadata": {},
   "outputs": [],
   "source": [
    "\n",
    "features = df[['make', 'model', 'mileage', 'state', 'transmission', 'year']]\n",
    "labels = df[['price']]\n",
    "\n",
    "features_encoded = pd.get_dummies(features, columns=['make', 'model', 'state', 'transmission'])\n",
    "X_train, X_test, Y_train, Y_test = train_test_split(features_encoded, labels, test_size=0.2, train_size=0.8)"
   ]
  },
  {
   "cell_type": "code",
   "execution_count": 6,
   "metadata": {},
   "outputs": [
    {
     "name": "stderr",
     "output_type": "stream",
     "text": [
      "/users/guest/d/dsw88/.virtualenvs/cs478/lib/python3.5/site-packages/sklearn/utils/validation.py:578: DataConversionWarning: A column-vector y was passed when a 1d array was expected. Please change the shape of y to (n_samples, ), for example using ravel().\n",
      "  y = column_or_1d(y, warn=True)\n"
     ]
    },
    {
     "data": {
      "text/plain": [
       "GradientBoostingRegressor(alpha=0.9, criterion='friedman_mse', init=None,\n",
       "             learning_rate=0.6, loss='ls', max_depth=4, max_features=None,\n",
       "             max_leaf_nodes=None, min_impurity_decrease=0.0,\n",
       "             min_impurity_split=None, min_samples_leaf=1,\n",
       "             min_samples_split=2, min_weight_fraction_leaf=0.0,\n",
       "             n_estimators=200, presort='auto', random_state=None,\n",
       "             subsample=1.0, verbose=0, warm_start=False)"
      ]
     },
     "execution_count": 6,
     "metadata": {},
     "output_type": "execute_result"
    }
   ],
   "source": [
    "gb_model = ensemble.GradientBoostingRegressor(learning_rate=.6, n_estimators=200, max_depth=4)\n",
    "gb_model.fit(X_train, Y_train)"
   ]
  },
  {
   "cell_type": "code",
   "execution_count": 7,
   "metadata": {},
   "outputs": [
    {
     "data": {
      "text/plain": [
       "0.8775980234456126"
      ]
     },
     "execution_count": 7,
     "metadata": {},
     "output_type": "execute_result"
    }
   ],
   "source": [
    "gb_model.score(X_test, Y_test)"
   ]
  }
 ],
 "metadata": {
  "kernelspec": {
   "display_name": "Python 3",
   "language": "python",
   "name": "python3"
  },
  "language_info": {
   "codemirror_mode": {
    "name": "ipython",
    "version": 3
   },
   "file_extension": ".py",
   "mimetype": "text/x-python",
   "name": "python",
   "nbconvert_exporter": "python",
   "pygments_lexer": "ipython3",
   "version": "3.5.2"
  }
 },
 "nbformat": 4,
 "nbformat_minor": 2
}
