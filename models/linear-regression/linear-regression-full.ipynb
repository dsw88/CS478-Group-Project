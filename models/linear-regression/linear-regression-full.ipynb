{
 "cells": [
  {
   "cell_type": "code",
   "execution_count": 9,
   "metadata": {},
   "outputs": [],
   "source": [
    "import pandas as pd\n",
    "import matplotlib\n",
    "import numpy as np\n",
    "from sklearn import preprocessing\n",
    "from sklearn import linear_model\n",
    "from sklearn.model_selection import train_test_split"
   ]
  },
  {
   "cell_type": "markdown",
   "metadata": {},
   "source": [
    "## Data Preparation\n",
    "Read the data and look at the first few rows:"
   ]
  },
  {
   "cell_type": "code",
   "execution_count": 10,
   "metadata": {},
   "outputs": [
    {
     "data": {
      "text/html": [
       "<div>\n",
       "<style scoped>\n",
       "    .dataframe tbody tr th:only-of-type {\n",
       "        vertical-align: middle;\n",
       "    }\n",
       "\n",
       "    .dataframe tbody tr th {\n",
       "        vertical-align: top;\n",
       "    }\n",
       "\n",
       "    .dataframe thead th {\n",
       "        text-align: right;\n",
       "    }\n",
       "</style>\n",
       "<table border=\"1\" class=\"dataframe\">\n",
       "  <thead>\n",
       "    <tr style=\"text-align: right;\">\n",
       "      <th></th>\n",
       "      <th>listing_id</th>\n",
       "      <th>vin</th>\n",
       "      <th>make</th>\n",
       "      <th>model</th>\n",
       "      <th>year</th>\n",
       "      <th>mileage</th>\n",
       "      <th>transmission</th>\n",
       "      <th>exterior_color</th>\n",
       "      <th>state</th>\n",
       "      <th>price</th>\n",
       "      <th>source</th>\n",
       "    </tr>\n",
       "  </thead>\n",
       "  <tbody>\n",
       "    <tr>\n",
       "      <th>0</th>\n",
       "      <td>728835398</td>\n",
       "      <td>1FM5K7B86DGB59447</td>\n",
       "      <td>Ford</td>\n",
       "      <td>Explorer</td>\n",
       "      <td>2013</td>\n",
       "      <td>115244.0</td>\n",
       "      <td>Automatic</td>\n",
       "      <td>Silver</td>\n",
       "      <td>CO</td>\n",
       "      <td>12788</td>\n",
       "      <td>Cars.com</td>\n",
       "    </tr>\n",
       "    <tr>\n",
       "      <th>1</th>\n",
       "      <td>728467649</td>\n",
       "      <td>JTEZT14R350022851</td>\n",
       "      <td>Toyota</td>\n",
       "      <td>4-Runner</td>\n",
       "      <td>2005</td>\n",
       "      <td>183578.0</td>\n",
       "      <td>Automatic</td>\n",
       "      <td>White</td>\n",
       "      <td>GA</td>\n",
       "      <td>7021</td>\n",
       "      <td>Cars.com</td>\n",
       "    </tr>\n",
       "    <tr>\n",
       "      <th>2</th>\n",
       "      <td>728759154</td>\n",
       "      <td>1GNKVGKDXHJ317848</td>\n",
       "      <td>Chevrolet</td>\n",
       "      <td>Traverse</td>\n",
       "      <td>2017</td>\n",
       "      <td>23077.0</td>\n",
       "      <td>Automatic</td>\n",
       "      <td>White</td>\n",
       "      <td>NM</td>\n",
       "      <td>25900</td>\n",
       "      <td>Cars.com</td>\n",
       "    </tr>\n",
       "    <tr>\n",
       "      <th>3</th>\n",
       "      <td>728922954</td>\n",
       "      <td>1N6AD0ER7EN718734</td>\n",
       "      <td>Nissan</td>\n",
       "      <td>Frontier</td>\n",
       "      <td>2014</td>\n",
       "      <td>25864.0</td>\n",
       "      <td>Automatic</td>\n",
       "      <td>Blue</td>\n",
       "      <td>CA</td>\n",
       "      <td>18995</td>\n",
       "      <td>Cars.com</td>\n",
       "    </tr>\n",
       "    <tr>\n",
       "      <th>4</th>\n",
       "      <td>729022991</td>\n",
       "      <td>2T3WFREV9FW164238</td>\n",
       "      <td>Toyota</td>\n",
       "      <td>RAV4</td>\n",
       "      <td>2015</td>\n",
       "      <td>28785.0</td>\n",
       "      <td>Automatic</td>\n",
       "      <td>White</td>\n",
       "      <td>CA</td>\n",
       "      <td>20995</td>\n",
       "      <td>Cars.com</td>\n",
       "    </tr>\n",
       "  </tbody>\n",
       "</table>\n",
       "</div>"
      ],
      "text/plain": [
       "  listing_id                vin       make     model  year   mileage  \\\n",
       "0  728835398  1FM5K7B86DGB59447       Ford  Explorer  2013  115244.0   \n",
       "1  728467649  JTEZT14R350022851     Toyota  4-Runner  2005  183578.0   \n",
       "2  728759154  1GNKVGKDXHJ317848  Chevrolet  Traverse  2017   23077.0   \n",
       "3  728922954  1N6AD0ER7EN718734     Nissan  Frontier  2014   25864.0   \n",
       "4  729022991  2T3WFREV9FW164238     Toyota      RAV4  2015   28785.0   \n",
       "\n",
       "  transmission exterior_color state  price    source  \n",
       "0    Automatic         Silver    CO  12788  Cars.com  \n",
       "1    Automatic          White    GA   7021  Cars.com  \n",
       "2    Automatic          White    NM  25900  Cars.com  \n",
       "3    Automatic           Blue    CA  18995  Cars.com  \n",
       "4    Automatic          White    CA  20995  Cars.com  "
      ]
     },
     "execution_count": 10,
     "metadata": {},
     "output_type": "execute_result"
    }
   ],
   "source": [
    "df = pd.read_csv('../../data/aggregated/processed_data/data-4-7-18-full.csv')\n",
    "df.head(5)"
   ]
  },
  {
   "cell_type": "markdown",
   "metadata": {},
   "source": [
    "Replace missing values in those columns that are missing data:"
   ]
  },
  {
   "cell_type": "code",
   "execution_count": 11,
   "metadata": {},
   "outputs": [],
   "source": [
    "# Continuous\n",
    "df['mileage'] = df['mileage'].fillna((df['mileage'].mean()))\n",
    "df['year'] = df['year'].fillna((df['year'].mean()))\n",
    "\n",
    "# Categorical\n",
    "df['make'] = df['make'].fillna(df['make'].value_counts().index[0])\n",
    "df['model'] = df['model'].fillna(df['model'].value_counts().index[0])\n",
    "df['state'] = df['state'].fillna(df['state'].value_counts().index[0])\n",
    "df['transmission'] = df['transmission'].fillna(df['transmission'].value_counts().index[0])"
   ]
  },
  {
   "cell_type": "markdown",
   "metadata": {},
   "source": [
    "## Model Training"
   ]
  },
  {
   "cell_type": "code",
   "execution_count": 12,
   "metadata": {},
   "outputs": [],
   "source": [
    "features = df[['make', 'model', 'mileage', 'state', 'transmission', 'year']]\n",
    "labels = df[['price']]\n",
    "features_encoded = pd.get_dummies(features, columns=['make', 'model', 'state', 'transmission'])\n",
    "X_train, X_test, Y_train, Y_test = train_test_split(features_encoded, labels, test_size=0.2, train_size=0.8)"
   ]
  },
  {
   "cell_type": "code",
   "execution_count": 13,
   "metadata": {},
   "outputs": [
    {
     "data": {
      "text/plain": [
       "LinearRegression(copy_X=True, fit_intercept=True, n_jobs=1, normalize=False)"
      ]
     },
     "execution_count": 13,
     "metadata": {},
     "output_type": "execute_result"
    }
   ],
   "source": [
    "model = linear_model.LinearRegression()\n",
    "model.fit(X_train, Y_train)"
   ]
  },
  {
   "cell_type": "code",
   "execution_count": 14,
   "metadata": {},
   "outputs": [
    {
     "data": {
      "text/plain": [
       "0.7966505876213233"
      ]
     },
     "execution_count": 14,
     "metadata": {},
     "output_type": "execute_result"
    }
   ],
   "source": [
    "model.score(X_test, Y_test)"
   ]
  },
  {
   "cell_type": "markdown",
   "metadata": {},
   "source": [
    "Not a bad score!"
   ]
  }
 ],
 "metadata": {
  "kernelspec": {
   "display_name": "Python 3",
   "language": "python",
   "name": "python3"
  },
  "language_info": {
   "codemirror_mode": {
    "name": "ipython",
    "version": 3
   },
   "file_extension": ".py",
   "mimetype": "text/x-python",
   "name": "python",
   "nbconvert_exporter": "python",
   "pygments_lexer": "ipython3",
   "version": "3.5.2"
  }
 },
 "nbformat": 4,
 "nbformat_minor": 2
}
