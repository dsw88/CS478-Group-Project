{
 "cells": [
  {
   "cell_type": "code",
   "execution_count": 18,
   "metadata": {},
   "outputs": [],
   "source": [
    "import pandas as pd\n",
    "import matplotlib\n",
    "import numpy as np\n",
    "from sklearn import preprocessing\n",
    "from sklearn import linear_model\n",
    "from sklearn.model_selection import train_test_split"
   ]
  },
  {
   "cell_type": "markdown",
   "metadata": {},
   "source": [
    "## Data Preparation"
   ]
  },
  {
   "cell_type": "markdown",
   "metadata": {},
   "source": [
    "Read the data and look at the first few rows:"
   ]
  },
  {
   "cell_type": "code",
   "execution_count": 21,
   "metadata": {},
   "outputs": [
    {
     "data": {
      "text/html": [
       "<div>\n",
       "<style>\n",
       "    .dataframe thead tr:only-child th {\n",
       "        text-align: right;\n",
       "    }\n",
       "\n",
       "    .dataframe thead th {\n",
       "        text-align: left;\n",
       "    }\n",
       "\n",
       "    .dataframe tbody tr th {\n",
       "        vertical-align: top;\n",
       "    }\n",
       "</style>\n",
       "<table border=\"1\" class=\"dataframe\">\n",
       "  <thead>\n",
       "    <tr style=\"text-align: right;\">\n",
       "      <th></th>\n",
       "      <th>cars_rating</th>\n",
       "      <th>condition</th>\n",
       "      <th>listing_id</th>\n",
       "      <th>vin</th>\n",
       "      <th>make</th>\n",
       "      <th>model</th>\n",
       "      <th>mileage</th>\n",
       "      <th>mpg_city</th>\n",
       "      <th>price</th>\n",
       "      <th>state</th>\n",
       "      <th>transmission</th>\n",
       "      <th>year</th>\n",
       "    </tr>\n",
       "  </thead>\n",
       "  <tbody>\n",
       "    <tr>\n",
       "      <th>0</th>\n",
       "      <td>4.4</td>\n",
       "      <td>Used</td>\n",
       "      <td>728835398</td>\n",
       "      <td>1FM5K7B86DGB59447</td>\n",
       "      <td>Ford</td>\n",
       "      <td>Explorer</td>\n",
       "      <td>115244.0</td>\n",
       "      <td>18.0</td>\n",
       "      <td>12788</td>\n",
       "      <td>CO</td>\n",
       "      <td>Automatic</td>\n",
       "      <td>2013</td>\n",
       "    </tr>\n",
       "    <tr>\n",
       "      <th>1</th>\n",
       "      <td>4.7</td>\n",
       "      <td>Used</td>\n",
       "      <td>728467649</td>\n",
       "      <td>JTEZT14R350022851</td>\n",
       "      <td>Toyota</td>\n",
       "      <td>4-Runner</td>\n",
       "      <td>183578.0</td>\n",
       "      <td>17.0</td>\n",
       "      <td>7021</td>\n",
       "      <td>GA</td>\n",
       "      <td>Automatic</td>\n",
       "      <td>2005</td>\n",
       "    </tr>\n",
       "    <tr>\n",
       "      <th>2</th>\n",
       "      <td>4.8</td>\n",
       "      <td>Used</td>\n",
       "      <td>728759154</td>\n",
       "      <td>1GNKVGKDXHJ317848</td>\n",
       "      <td>Chevrolet</td>\n",
       "      <td>Traverse</td>\n",
       "      <td>23077.0</td>\n",
       "      <td>17.0</td>\n",
       "      <td>25900</td>\n",
       "      <td>NM</td>\n",
       "      <td>Automatic</td>\n",
       "      <td>2017</td>\n",
       "    </tr>\n",
       "    <tr>\n",
       "      <th>3</th>\n",
       "      <td>4.4</td>\n",
       "      <td>Used</td>\n",
       "      <td>728922954</td>\n",
       "      <td>1N6AD0ER7EN718734</td>\n",
       "      <td>Nissan</td>\n",
       "      <td>Frontier</td>\n",
       "      <td>25864.0</td>\n",
       "      <td>17.0</td>\n",
       "      <td>18995</td>\n",
       "      <td>CA</td>\n",
       "      <td>Automatic</td>\n",
       "      <td>2014</td>\n",
       "    </tr>\n",
       "    <tr>\n",
       "      <th>4</th>\n",
       "      <td>4.8</td>\n",
       "      <td>Used</td>\n",
       "      <td>728946737</td>\n",
       "      <td>5XYPGDA38GG104959</td>\n",
       "      <td>Kia</td>\n",
       "      <td>Sorento</td>\n",
       "      <td>26598.0</td>\n",
       "      <td>19.0</td>\n",
       "      <td>21969</td>\n",
       "      <td>IA</td>\n",
       "      <td>Automatic</td>\n",
       "      <td>2016</td>\n",
       "    </tr>\n",
       "  </tbody>\n",
       "</table>\n",
       "</div>"
      ],
      "text/plain": [
       "   cars_rating condition  listing_id                vin       make     model  \\\n",
       "0          4.4      Used   728835398  1FM5K7B86DGB59447       Ford  Explorer   \n",
       "1          4.7      Used   728467649  JTEZT14R350022851     Toyota  4-Runner   \n",
       "2          4.8      Used   728759154  1GNKVGKDXHJ317848  Chevrolet  Traverse   \n",
       "3          4.4      Used   728922954  1N6AD0ER7EN718734     Nissan  Frontier   \n",
       "4          4.8      Used   728946737  5XYPGDA38GG104959        Kia   Sorento   \n",
       "\n",
       "    mileage  mpg_city  price state transmission  year  \n",
       "0  115244.0      18.0  12788    CO    Automatic  2013  \n",
       "1  183578.0      17.0   7021    GA    Automatic  2005  \n",
       "2   23077.0      17.0  25900    NM    Automatic  2017  \n",
       "3   25864.0      17.0  18995    CA    Automatic  2014  \n",
       "4   26598.0      19.0  21969    IA    Automatic  2016  "
      ]
     },
     "execution_count": 21,
     "metadata": {},
     "output_type": "execute_result"
    }
   ],
   "source": [
    "df = pd.read_csv('../../data/cars/processed_data/data-3-24-18-no-color.csv')\n",
    "df.head(5)"
   ]
  },
  {
   "cell_type": "markdown",
   "metadata": {},
   "source": [
    "Replace missing values in those columns that are missing data:"
   ]
  },
  {
   "cell_type": "code",
   "execution_count": 35,
   "metadata": {},
   "outputs": [],
   "source": [
    "# Continuous\n",
    "df['mpg_city'] = df['mpg_city'].fillna((df['mpg_city'].mean()))\n",
    "df['mileage'] = df['mileage'].fillna((df['mileage'].mean()))\n",
    "df['cars_rating'] = df['cars_rating'].fillna((df['cars_rating'].mean()))\n",
    "df['year'] = df['year'].fillna((df['year'].mean()))\n",
    "\n",
    "# Categorical\n",
    "df['make'] = df['make'].fillna(df['make'].value_counts().index[0])\n",
    "df['model'] = df['model'].fillna(df['model'].value_counts().index[0])\n",
    "df['state'] = df['state'].fillna(df['state'].value_counts().index[0])\n",
    "df['transmission'] = df['transmission'].fillna(df['transmission'].value_counts().index[0])"
   ]
  },
  {
   "cell_type": "markdown",
   "metadata": {},
   "source": [
    "## Model Training"
   ]
  },
  {
   "cell_type": "code",
   "execution_count": 36,
   "metadata": {},
   "outputs": [
    {
     "data": {
      "text/html": [
       "<div>\n",
       "<style>\n",
       "    .dataframe thead tr:only-child th {\n",
       "        text-align: right;\n",
       "    }\n",
       "\n",
       "    .dataframe thead th {\n",
       "        text-align: left;\n",
       "    }\n",
       "\n",
       "    .dataframe tbody tr th {\n",
       "        vertical-align: top;\n",
       "    }\n",
       "</style>\n",
       "<table border=\"1\" class=\"dataframe\">\n",
       "  <thead>\n",
       "    <tr style=\"text-align: right;\">\n",
       "      <th></th>\n",
       "      <th>cars_rating</th>\n",
       "      <th>mileage</th>\n",
       "      <th>mpg_city</th>\n",
       "      <th>year</th>\n",
       "    </tr>\n",
       "  </thead>\n",
       "  <tbody>\n",
       "    <tr>\n",
       "      <th>count</th>\n",
       "      <td>42286.000000</td>\n",
       "      <td>42286.000000</td>\n",
       "      <td>42286.000000</td>\n",
       "      <td>42286.000000</td>\n",
       "    </tr>\n",
       "    <tr>\n",
       "      <th>mean</th>\n",
       "      <td>4.585624</td>\n",
       "      <td>54827.948858</td>\n",
       "      <td>21.674800</td>\n",
       "      <td>2013.264934</td>\n",
       "    </tr>\n",
       "    <tr>\n",
       "      <th>std</th>\n",
       "      <td>0.248039</td>\n",
       "      <td>43713.209963</td>\n",
       "      <td>9.279901</td>\n",
       "      <td>3.821917</td>\n",
       "    </tr>\n",
       "    <tr>\n",
       "      <th>min</th>\n",
       "      <td>1.000000</td>\n",
       "      <td>1.000000</td>\n",
       "      <td>0.000000</td>\n",
       "      <td>1990.000000</td>\n",
       "    </tr>\n",
       "    <tr>\n",
       "      <th>25%</th>\n",
       "      <td>4.500000</td>\n",
       "      <td>23999.000000</td>\n",
       "      <td>18.000000</td>\n",
       "      <td>2012.000000</td>\n",
       "    </tr>\n",
       "    <tr>\n",
       "      <th>50%</th>\n",
       "      <td>4.600000</td>\n",
       "      <td>41168.500000</td>\n",
       "      <td>21.000000</td>\n",
       "      <td>2015.000000</td>\n",
       "    </tr>\n",
       "    <tr>\n",
       "      <th>75%</th>\n",
       "      <td>4.800000</td>\n",
       "      <td>76000.000000</td>\n",
       "      <td>25.000000</td>\n",
       "      <td>2016.000000</td>\n",
       "    </tr>\n",
       "    <tr>\n",
       "      <th>max</th>\n",
       "      <td>5.000000</td>\n",
       "      <td>302691.000000</td>\n",
       "      <td>125.000000</td>\n",
       "      <td>2018.000000</td>\n",
       "    </tr>\n",
       "  </tbody>\n",
       "</table>\n",
       "</div>"
      ],
      "text/plain": [
       "        cars_rating        mileage      mpg_city          year\n",
       "count  42286.000000   42286.000000  42286.000000  42286.000000\n",
       "mean       4.585624   54827.948858     21.674800   2013.264934\n",
       "std        0.248039   43713.209963      9.279901      3.821917\n",
       "min        1.000000       1.000000      0.000000   1990.000000\n",
       "25%        4.500000   23999.000000     18.000000   2012.000000\n",
       "50%        4.600000   41168.500000     21.000000   2015.000000\n",
       "75%        4.800000   76000.000000     25.000000   2016.000000\n",
       "max        5.000000  302691.000000    125.000000   2018.000000"
      ]
     },
     "execution_count": 36,
     "metadata": {},
     "output_type": "execute_result"
    }
   ],
   "source": [
    "features = df[['cars_rating', 'make', 'model', 'mileage', 'mpg_city', 'state', 'transmission', 'year']]\n",
    "labels = df[['price']]\n",
    "features_encoded = pd.get_dummies(features, columns=['make', 'model', 'state', 'transmission'])\n",
    "X_train, X_test, Y_train, Y_test = train_test_split(features_encoded, labels, test_size=0.2, train_size=0.8)\n",
    "features.describe()"
   ]
  },
  {
   "cell_type": "code",
   "execution_count": 37,
   "metadata": {},
   "outputs": [
    {
     "data": {
      "text/plain": [
       "LinearRegression(copy_X=True, fit_intercept=True, n_jobs=1, normalize=False)"
      ]
     },
     "execution_count": 37,
     "metadata": {},
     "output_type": "execute_result"
    }
   ],
   "source": [
    "model = linear_model.LinearRegression()\n",
    "model.fit(X_train, Y_train)"
   ]
  },
  {
   "cell_type": "code",
   "execution_count": 38,
   "metadata": {},
   "outputs": [
    {
     "data": {
      "text/plain": [
       "-1377777.5190754114"
      ]
     },
     "execution_count": 38,
     "metadata": {},
     "output_type": "execute_result"
    }
   ],
   "source": [
    "model.score(X_test, Y_test)"
   ]
  },
  {
   "cell_type": "code",
   "execution_count": null,
   "metadata": {},
   "outputs": [],
   "source": []
  }
 ],
 "metadata": {
  "kernelspec": {
   "display_name": "Python 3",
   "language": "python",
   "name": "python3"
  },
  "language_info": {
   "codemirror_mode": {
    "name": "ipython",
    "version": 3
   },
   "file_extension": ".py",
   "mimetype": "text/x-python",
   "name": "python",
   "nbconvert_exporter": "python",
   "pygments_lexer": "ipython3",
   "version": "3.6.3"
  }
 },
 "nbformat": 4,
 "nbformat_minor": 2
}
