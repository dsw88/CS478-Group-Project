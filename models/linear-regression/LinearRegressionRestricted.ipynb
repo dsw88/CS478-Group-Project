{
 "cells": [
  {
   "cell_type": "code",
   "execution_count": 1,
   "metadata": {},
   "outputs": [],
   "source": [
    "import pandas as pd\n",
    "import matplotlib\n",
    "import numpy as np\n",
    "from sklearn import preprocessing\n",
    "from sklearn import linear_model\n",
    "from sklearn.model_selection import train_test_split"
   ]
  },
  {
   "cell_type": "markdown",
   "metadata": {},
   "source": [
    "## Introduction\n",
    "The first attempt using linear regression (see the \"LinearRegression\" notebook in this same directory) did not go well. We got a R^2 score of -1377777, which is very bad.\n",
    "\n",
    "I think the reason is that we trained on 400+ models on only 42,000 rows of data. This means some models only had 3 examples, which doesn't seem like enough to learn to identify them.\n",
    "\n",
    "For this notebook, I've restricted the data to only those models that have 100 or more examples in the dataset."
   ]
  },
  {
   "cell_type": "markdown",
   "metadata": {},
   "source": [
    "## Data Preparation\n",
    "Read the data and look at the first few rows:"
   ]
  },
  {
   "cell_type": "code",
   "execution_count": 8,
   "metadata": {},
   "outputs": [
    {
     "data": {
      "text/html": [
       "<div>\n",
       "<style>\n",
       "    .dataframe thead tr:only-child th {\n",
       "        text-align: right;\n",
       "    }\n",
       "\n",
       "    .dataframe thead th {\n",
       "        text-align: left;\n",
       "    }\n",
       "\n",
       "    .dataframe tbody tr th {\n",
       "        vertical-align: top;\n",
       "    }\n",
       "</style>\n",
       "<table border=\"1\" class=\"dataframe\">\n",
       "  <thead>\n",
       "    <tr style=\"text-align: right;\">\n",
       "      <th></th>\n",
       "      <th>listing_id</th>\n",
       "      <th>vin</th>\n",
       "      <th>make</th>\n",
       "      <th>model</th>\n",
       "      <th>year</th>\n",
       "      <th>condition</th>\n",
       "      <th>mpg_city</th>\n",
       "      <th>mileage</th>\n",
       "      <th>transmission</th>\n",
       "      <th>cars_rating</th>\n",
       "      <th>state</th>\n",
       "      <th>price</th>\n",
       "    </tr>\n",
       "  </thead>\n",
       "  <tbody>\n",
       "    <tr>\n",
       "      <th>0</th>\n",
       "      <td>728835398</td>\n",
       "      <td>1FM5K7B86DGB59447</td>\n",
       "      <td>Ford</td>\n",
       "      <td>Explorer</td>\n",
       "      <td>2013</td>\n",
       "      <td>Used</td>\n",
       "      <td>18.0</td>\n",
       "      <td>115244.0</td>\n",
       "      <td>Automatic</td>\n",
       "      <td>4.4</td>\n",
       "      <td>CO</td>\n",
       "      <td>12788</td>\n",
       "    </tr>\n",
       "    <tr>\n",
       "      <th>1</th>\n",
       "      <td>728467649</td>\n",
       "      <td>JTEZT14R350022851</td>\n",
       "      <td>Toyota</td>\n",
       "      <td>4-Runner</td>\n",
       "      <td>2005</td>\n",
       "      <td>Used</td>\n",
       "      <td>17.0</td>\n",
       "      <td>183578.0</td>\n",
       "      <td>Automatic</td>\n",
       "      <td>4.7</td>\n",
       "      <td>GA</td>\n",
       "      <td>7021</td>\n",
       "    </tr>\n",
       "    <tr>\n",
       "      <th>2</th>\n",
       "      <td>728759154</td>\n",
       "      <td>1GNKVGKDXHJ317848</td>\n",
       "      <td>Chevrolet</td>\n",
       "      <td>Traverse</td>\n",
       "      <td>2017</td>\n",
       "      <td>Used</td>\n",
       "      <td>17.0</td>\n",
       "      <td>23077.0</td>\n",
       "      <td>Automatic</td>\n",
       "      <td>4.8</td>\n",
       "      <td>NM</td>\n",
       "      <td>25900</td>\n",
       "    </tr>\n",
       "    <tr>\n",
       "      <th>3</th>\n",
       "      <td>728922954</td>\n",
       "      <td>1N6AD0ER7EN718734</td>\n",
       "      <td>Nissan</td>\n",
       "      <td>Frontier</td>\n",
       "      <td>2014</td>\n",
       "      <td>Used</td>\n",
       "      <td>17.0</td>\n",
       "      <td>25864.0</td>\n",
       "      <td>Automatic</td>\n",
       "      <td>4.4</td>\n",
       "      <td>CA</td>\n",
       "      <td>18995</td>\n",
       "    </tr>\n",
       "    <tr>\n",
       "      <th>4</th>\n",
       "      <td>728946737</td>\n",
       "      <td>5XYPGDA38GG104959</td>\n",
       "      <td>Kia</td>\n",
       "      <td>Sorento</td>\n",
       "      <td>2016</td>\n",
       "      <td>Used</td>\n",
       "      <td>19.0</td>\n",
       "      <td>26598.0</td>\n",
       "      <td>Automatic</td>\n",
       "      <td>4.8</td>\n",
       "      <td>IA</td>\n",
       "      <td>21969</td>\n",
       "    </tr>\n",
       "  </tbody>\n",
       "</table>\n",
       "</div>"
      ],
      "text/plain": [
       "   listing_id                vin       make     model  year condition  \\\n",
       "0   728835398  1FM5K7B86DGB59447       Ford  Explorer  2013      Used   \n",
       "1   728467649  JTEZT14R350022851     Toyota  4-Runner  2005      Used   \n",
       "2   728759154  1GNKVGKDXHJ317848  Chevrolet  Traverse  2017      Used   \n",
       "3   728922954  1N6AD0ER7EN718734     Nissan  Frontier  2014      Used   \n",
       "4   728946737  5XYPGDA38GG104959        Kia   Sorento  2016      Used   \n",
       "\n",
       "   mpg_city   mileage transmission  cars_rating state  price  \n",
       "0      18.0  115244.0    Automatic          4.4    CO  12788  \n",
       "1      17.0  183578.0    Automatic          4.7    GA   7021  \n",
       "2      17.0   23077.0    Automatic          4.8    NM  25900  \n",
       "3      17.0   25864.0    Automatic          4.4    CA  18995  \n",
       "4      19.0   26598.0    Automatic          4.8    IA  21969  "
      ]
     },
     "execution_count": 8,
     "metadata": {},
     "output_type": "execute_result"
    }
   ],
   "source": [
    "df = pd.read_csv('../../data/cars/processed_data/data-3-27-18-restricted-model.csv')\n",
    "df.head(5)"
   ]
  },
  {
   "cell_type": "markdown",
   "metadata": {},
   "source": [
    "Replace missing values in those columns that are missing data:"
   ]
  },
  {
   "cell_type": "code",
   "execution_count": 9,
   "metadata": {},
   "outputs": [],
   "source": [
    "# Continuous\n",
    "df['mpg_city'] = df['mpg_city'].fillna((df['mpg_city'].mean()))\n",
    "df['mileage'] = df['mileage'].fillna((df['mileage'].mean()))\n",
    "df['cars_rating'] = df['cars_rating'].fillna((df['cars_rating'].mean()))\n",
    "df['year'] = df['year'].fillna((df['year'].mean()))\n",
    "\n",
    "# Categorical\n",
    "df['make'] = df['make'].fillna(df['make'].value_counts().index[0])\n",
    "df['model'] = df['model'].fillna(df['model'].value_counts().index[0])\n",
    "df['state'] = df['state'].fillna(df['state'].value_counts().index[0])\n",
    "df['transmission'] = df['transmission'].fillna(df['transmission'].value_counts().index[0])"
   ]
  },
  {
   "cell_type": "markdown",
   "metadata": {},
   "source": [
    "## Model Training"
   ]
  },
  {
   "cell_type": "code",
   "execution_count": 10,
   "metadata": {},
   "outputs": [
    {
     "data": {
      "text/html": [
       "<div>\n",
       "<style>\n",
       "    .dataframe thead tr:only-child th {\n",
       "        text-align: right;\n",
       "    }\n",
       "\n",
       "    .dataframe thead th {\n",
       "        text-align: left;\n",
       "    }\n",
       "\n",
       "    .dataframe tbody tr th {\n",
       "        vertical-align: top;\n",
       "    }\n",
       "</style>\n",
       "<table border=\"1\" class=\"dataframe\">\n",
       "  <thead>\n",
       "    <tr style=\"text-align: right;\">\n",
       "      <th></th>\n",
       "      <th>cars_rating</th>\n",
       "      <th>mileage</th>\n",
       "      <th>mpg_city</th>\n",
       "      <th>year</th>\n",
       "    </tr>\n",
       "  </thead>\n",
       "  <tbody>\n",
       "    <tr>\n",
       "      <th>count</th>\n",
       "      <td>33363.000000</td>\n",
       "      <td>33363.000000</td>\n",
       "      <td>33363.000000</td>\n",
       "      <td>33363.000000</td>\n",
       "    </tr>\n",
       "    <tr>\n",
       "      <th>mean</th>\n",
       "      <td>4.593293</td>\n",
       "      <td>54180.981816</td>\n",
       "      <td>22.267125</td>\n",
       "      <td>2013.502083</td>\n",
       "    </tr>\n",
       "    <tr>\n",
       "      <th>std</th>\n",
       "      <td>0.220367</td>\n",
       "      <td>43189.484623</td>\n",
       "      <td>5.817766</td>\n",
       "      <td>3.603217</td>\n",
       "    </tr>\n",
       "    <tr>\n",
       "      <th>min</th>\n",
       "      <td>3.000000</td>\n",
       "      <td>1.000000</td>\n",
       "      <td>10.000000</td>\n",
       "      <td>1990.000000</td>\n",
       "    </tr>\n",
       "    <tr>\n",
       "      <th>25%</th>\n",
       "      <td>4.500000</td>\n",
       "      <td>24160.000000</td>\n",
       "      <td>18.000000</td>\n",
       "      <td>2012.000000</td>\n",
       "    </tr>\n",
       "    <tr>\n",
       "      <th>50%</th>\n",
       "      <td>4.600000</td>\n",
       "      <td>40946.000000</td>\n",
       "      <td>22.000000</td>\n",
       "      <td>2015.000000</td>\n",
       "    </tr>\n",
       "    <tr>\n",
       "      <th>75%</th>\n",
       "      <td>4.800000</td>\n",
       "      <td>74200.500000</td>\n",
       "      <td>25.000000</td>\n",
       "      <td>2016.000000</td>\n",
       "    </tr>\n",
       "    <tr>\n",
       "      <th>max</th>\n",
       "      <td>5.000000</td>\n",
       "      <td>302417.000000</td>\n",
       "      <td>116.000000</td>\n",
       "      <td>2018.000000</td>\n",
       "    </tr>\n",
       "  </tbody>\n",
       "</table>\n",
       "</div>"
      ],
      "text/plain": [
       "        cars_rating        mileage      mpg_city          year\n",
       "count  33363.000000   33363.000000  33363.000000  33363.000000\n",
       "mean       4.593293   54180.981816     22.267125   2013.502083\n",
       "std        0.220367   43189.484623      5.817766      3.603217\n",
       "min        3.000000       1.000000     10.000000   1990.000000\n",
       "25%        4.500000   24160.000000     18.000000   2012.000000\n",
       "50%        4.600000   40946.000000     22.000000   2015.000000\n",
       "75%        4.800000   74200.500000     25.000000   2016.000000\n",
       "max        5.000000  302417.000000    116.000000   2018.000000"
      ]
     },
     "execution_count": 10,
     "metadata": {},
     "output_type": "execute_result"
    }
   ],
   "source": [
    "features = df[['cars_rating', 'make', 'model', 'mileage', 'mpg_city', 'state', 'transmission', 'year']]\n",
    "labels = df[['price']]\n",
    "features_encoded = pd.get_dummies(features, columns=['make', 'model', 'state', 'transmission'])\n",
    "X_train, X_test, Y_train, Y_test = train_test_split(features_encoded, labels, test_size=0.2, train_size=0.8)\n",
    "features.describe()"
   ]
  },
  {
   "cell_type": "code",
   "execution_count": 11,
   "metadata": {},
   "outputs": [
    {
     "data": {
      "text/plain": [
       "LinearRegression(copy_X=True, fit_intercept=True, n_jobs=1, normalize=False)"
      ]
     },
     "execution_count": 11,
     "metadata": {},
     "output_type": "execute_result"
    }
   ],
   "source": [
    "model = linear_model.LinearRegression()\n",
    "model.fit(X_train, Y_train)"
   ]
  },
  {
   "cell_type": "code",
   "execution_count": 12,
   "metadata": {},
   "outputs": [
    {
     "data": {
      "text/plain": [
       "0.77899004713176589"
      ]
     },
     "execution_count": 12,
     "metadata": {},
     "output_type": "execute_result"
    }
   ],
   "source": [
    "model.score(X_test, Y_test)"
   ]
  },
  {
   "cell_type": "markdown",
   "metadata": {},
   "source": [
    "A much better score! Restricting the model to only examples with lots of data has really helped. "
   ]
  },
  {
   "cell_type": "code",
   "execution_count": null,
   "metadata": {},
   "outputs": [],
   "source": []
  }
 ],
 "metadata": {
  "kernelspec": {
   "display_name": "Python 3",
   "language": "python",
   "name": "python3"
  },
  "language_info": {
   "codemirror_mode": {
    "name": "ipython",
    "version": 3
   },
   "file_extension": ".py",
   "mimetype": "text/x-python",
   "name": "python",
   "nbconvert_exporter": "python",
   "pygments_lexer": "ipython3",
   "version": "3.6.3"
  }
 },
 "nbformat": 4,
 "nbformat_minor": 2
}
