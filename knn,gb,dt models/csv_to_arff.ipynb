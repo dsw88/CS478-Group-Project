{
 "cells": [
  {
   "cell_type": "code",
   "execution_count": 1,
   "metadata": {
    "collapsed": true
   },
   "outputs": [],
   "source": [
    "import pandas\n",
    "import numpy as np\n",
    "df=pandas.read_csv(\"./data-3-28-18-restricted.csv\")\n",
    "nominal = ['make', 'model','state', 'transmission','cars_rating','seller_type','title','transmission','trim']\n",
    "continuous=['mileage', 'year','price','cylinders','doors','mpg_city']\n",
    "\n"
   ]
  },
  {
   "cell_type": "code",
   "execution_count": 2,
   "metadata": {},
   "outputs": [
    {
     "name": "stdout",
     "output_type": "stream",
     "text": [
      "             make       model  year mileage transmission state  price\n",
      "0            Ford    Explorer  2013  115244    Automatic    CO  12788\n",
      "1          Toyota    4-Runner  2005  183578    Automatic    GA   7021\n",
      "2       Chevrolet    Traverse  2017   23077    Automatic    NM  25900\n",
      "3          Nissan    Frontier  2014   25864    Automatic    CA  18995\n",
      "4          Toyota        RAV4  2015   28785    Automatic    CA  20995\n",
      "5             RAM        1500  2017   12261    Automatic    AZ  28673\n",
      "6        INFINITI        QX60  2015   36464    Automatic    GA  27480\n",
      "7            Jeep     Compass  2015   48719    Automatic    AZ  11573\n",
      "8            Ford    Explorer  2015   54106    Automatic    AZ  22000\n",
      "9            Ford       F-250  2016   49203    Automatic    UT  49730\n",
      "10      Chevrolet       Tahoe  2015   55372    Automatic    AZ  36581\n",
      "11     Volkswagen      Passat  2012   58784    Automatic    AZ  12995\n",
      "12          Dodge     Durango  2016   37872    Automatic    SC  26700\n",
      "13        Hyundai      Sonata  2003  155866    Automatic    NC   2495\n",
      "14       Chrysler         200  2015   19173    Automatic    NJ  14995\n",
      "15           Jeep    Wrangler  2014   31222    Automatic    OH  24125\n",
      "16        Hyundai    Santa Fe  2009   82500    Automatic    KY   7000\n",
      "17            Kia      Optima  2013   50538    Automatic    FL   8798\n",
      "18          Honda      Accord  2018     533    Automatic    WA  31488\n",
      "19      Chevrolet       Tahoe  2011  125196    Automatic    FL  17991\n",
      "20       Cadillac    Escalade  2016   20003    Automatic    CA  59995\n",
      "21      Chevrolet       Sonic  2013   33883    Automatic    IL   6980\n",
      "22         Nissan      Maxima  2016   10312    Automatic    KY  22900\n",
      "23            GMC      Acadia  2015   25561    Automatic    CA  31980\n",
      "24            GMC       Yukon  2016   23649    Automatic    CA  56980\n",
      "25           Ford       F-150  2016   23121    Automatic    FL  24998\n",
      "26            GMC     Terrain  2013   36918    Automatic    CO  15230\n",
      "27         Toyota     Corolla  2016   36961            ?    OH  14230\n",
      "28        Hyundai     Elantra  2014   20763    Automatic    KY  13650\n",
      "29          Honda       Pilot  2011   81487    Automatic    NY  12999\n",
      "...           ...         ...   ...     ...          ...   ...    ...\n",
      "42742      Nissan  Pathfinder  2015   47799    Automatic    AR  26450\n",
      "42743   Chevrolet       Sonic  2017   17381    Automatic    NM  14950\n",
      "42744     Hyundai     Elantra  2015   19000    Automatic    MD  12997\n",
      "42745       Honda        CR-V  2016   18075    Automatic    CO  22980\n",
      "42746         RAM        1500  2017   12052    Automatic    CO  38980\n",
      "42747     Hyundai      Accent  2016   42114    Automatic    MD   9825\n",
      "42748       Lexus          RX  2014   56283    Automatic    CA  31995\n",
      "42749         GMC      Sierra  2013   53513    Automatic    WA  31456\n",
      "42750         BMW          X1  2015   22814    Automatic    FL  21900\n",
      "42751       Dodge     Journey  2017   19556    Automatic    TX  18889\n",
      "42752         RAM        1500  2016   18450    Automatic    CA  24488\n",
      "42753   Chevrolet       Tahoe  2015   34531    Automatic    NV  39100\n",
      "42754        Ford       F-150  2001  186059    Automatic    AZ   7499\n",
      "42755       Dodge         Ram  2010  120210    Automatic    TX  11700\n",
      "42756     Hyundai     Elantra  2015   32010    Automatic    FL   9994\n",
      "42757      Toyota       Camry  2016   23296    Automatic    FL  15998\n",
      "42758      Toyota        RAV4  2017   25629    Automatic    UT  22980\n",
      "42759         Kia        Soul  2016   43739       Manual    CO  11690\n",
      "42760      Toyota      Sienna  2005  138890    Automatic    WA   9999\n",
      "42761        Ford      Fusion  2012   58415       Manual    CO   9500\n",
      "42762      Toyota       Camry  2016   43091    Automatic    NY  13994\n",
      "42763        Ford      Escape  2014   73620    Automatic    CO  14490\n",
      "42764      Subaru      Legacy  2015  103450    Automatic    NC  15895\n",
      "42765        Ford       F-150  2012   99095    Automatic    ID  22750\n",
      "42766      Toyota      Tacoma  2013   73812            ?    NV  23999\n",
      "42767      Toyota      Tundra  2016  124260    Automatic    UT  25995\n",
      "42768        Jeep    Wrangler  2010   83239    Automatic    VT  19900\n",
      "42769        Ford       Focus  2012   97610            ?    CO   7000\n",
      "42770       Honda        CR-V  2017   15895    Automatic    MN  27499\n",
      "42771       Honda        CR-V  2015   15013    Automatic    MN  21799\n",
      "\n",
      "[42772 rows x 7 columns]\n"
     ]
    }
   ],
   "source": [
    "f=open(\"combined_data.arff\",\"w\")\n",
    "df=df.replace(np.nan,\"?\")\n",
    "df=df.replace('Not Specified',\"?\")\n",
    "df=df.replace('not specified',\"?\")\n",
    "df=df.replace('nan',\"?\")\n",
    "df=df.replace('',\"?\")\n",
    "columns=df.columns\n",
    "f.write(\"@RELATION cars\\n\")\n",
    "for column in columns:\n",
    "    if(column in continuous) :\n",
    "        f.write(\"@ATTRIBUTE \")\n",
    "        f.write(\"'\"+str(column)+\"'\")\n",
    "        unique=df[column].unique()\n",
    "        unique=map(str, unique)\n",
    "        unique=set(unique)\n",
    "        f.write(\" NUMERIC\\n\")\n",
    "    elif(column in nominal):\n",
    "        f.write(\"@ATTRIBUTE \")\n",
    "        f.write(\"'\"+str(column)+\"'\")\n",
    "        unique=df[column].unique()\n",
    "        unique=map(str, unique)\n",
    "        unique=set(unique)\n",
    "        f.write(\" {\")\n",
    "        f.write(', '.join([(\"'\"+str(x)+\"'\" if not x.isdigit() else x) for x in unique]))\n",
    "        f.write(\"}\\n\")\n",
    "    else:\n",
    "        df=df.drop([column],axis=1)\n",
    "f.write(\"@DATA\\n\")\n",
    "print(df)\n",
    "for index,row in df.iterrows():\n",
    "    row=map(str, row)\n",
    "    f.write(', '.join([(\"'\"+str(x)+\"'\" if not ((str(x)).isdigit() or x=='?') else x) for x in row]))\n",
    "    f.write('\\n')\n",
    "            \n",
    "f.close()"
   ]
  },
  {
   "cell_type": "code",
   "execution_count": null,
   "metadata": {
    "collapsed": true
   },
   "outputs": [],
   "source": []
  }
 ],
 "metadata": {
  "kernelspec": {
   "display_name": "Python 2",
   "language": "python",
   "name": "python2"
  },
  "language_info": {
   "codemirror_mode": {
    "name": "ipython",
    "version": 2
   },
   "file_extension": ".py",
   "mimetype": "text/x-python",
   "name": "python",
   "nbconvert_exporter": "python",
   "pygments_lexer": "ipython2",
   "version": "2.7.13"
  }
 },
 "nbformat": 4,
 "nbformat_minor": 2
}
